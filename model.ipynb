{
 "cells": [
  {
   "cell_type": "code",
   "execution_count": 1,
   "metadata": {},
   "outputs": [],
   "source": [
    "import numpy as np\n",
    "import pandas as pd\n",
    "import matplotlib.pyplot as plt\n",
    "import seaborn as sns\n",
    "from scipy import stats"
   ]
  },
  {
   "cell_type": "code",
   "execution_count": 2,
   "metadata": {},
   "outputs": [
    {
     "data": {
      "text/html": [
       "<div>\n",
       "<style scoped>\n",
       "    .dataframe tbody tr th:only-of-type {\n",
       "        vertical-align: middle;\n",
       "    }\n",
       "\n",
       "    .dataframe tbody tr th {\n",
       "        vertical-align: top;\n",
       "    }\n",
       "\n",
       "    .dataframe thead th {\n",
       "        text-align: right;\n",
       "    }\n",
       "</style>\n",
       "<table border=\"1\" class=\"dataframe\">\n",
       "  <thead>\n",
       "    <tr style=\"text-align: right;\">\n",
       "      <th></th>\n",
       "      <th>City</th>\n",
       "      <th>PM2.5</th>\n",
       "      <th>PM10</th>\n",
       "      <th>NO</th>\n",
       "      <th>NO2</th>\n",
       "      <th>NOx</th>\n",
       "      <th>NH3</th>\n",
       "      <th>CO</th>\n",
       "      <th>SO2</th>\n",
       "      <th>O3</th>\n",
       "      <th>Benzene</th>\n",
       "      <th>Toluene</th>\n",
       "      <th>Xylene</th>\n",
       "      <th>AQI</th>\n",
       "      <th>AQI_Bucket</th>\n",
       "    </tr>\n",
       "    <tr>\n",
       "      <th>Date</th>\n",
       "      <th></th>\n",
       "      <th></th>\n",
       "      <th></th>\n",
       "      <th></th>\n",
       "      <th></th>\n",
       "      <th></th>\n",
       "      <th></th>\n",
       "      <th></th>\n",
       "      <th></th>\n",
       "      <th></th>\n",
       "      <th></th>\n",
       "      <th></th>\n",
       "      <th></th>\n",
       "      <th></th>\n",
       "      <th></th>\n",
       "    </tr>\n",
       "  </thead>\n",
       "  <tbody>\n",
       "    <tr>\n",
       "      <th>2017-09-01</th>\n",
       "      <td>Hyderabad</td>\n",
       "      <td>10.46</td>\n",
       "      <td>46.57</td>\n",
       "      <td>20.22</td>\n",
       "      <td>76.06</td>\n",
       "      <td>7.60</td>\n",
       "      <td>53.08</td>\n",
       "      <td>0.11</td>\n",
       "      <td>6.94</td>\n",
       "      <td>15.01</td>\n",
       "      <td>0.02</td>\n",
       "      <td>0.11</td>\n",
       "      <td>0.36</td>\n",
       "      <td>NaN</td>\n",
       "      <td>NaN</td>\n",
       "    </tr>\n",
       "    <tr>\n",
       "      <th>2017-09-02</th>\n",
       "      <td>Hyderabad</td>\n",
       "      <td>6.31</td>\n",
       "      <td>28.63</td>\n",
       "      <td>10.71</td>\n",
       "      <td>44.71</td>\n",
       "      <td>13.01</td>\n",
       "      <td>31.07</td>\n",
       "      <td>0.39</td>\n",
       "      <td>7.71</td>\n",
       "      <td>13.53</td>\n",
       "      <td>0.06</td>\n",
       "      <td>0.85</td>\n",
       "      <td>0.11</td>\n",
       "      <td>87.0</td>\n",
       "      <td>Satisfactory</td>\n",
       "    </tr>\n",
       "    <tr>\n",
       "      <th>2017-09-03</th>\n",
       "      <td>Hyderabad</td>\n",
       "      <td>10.40</td>\n",
       "      <td>30.27</td>\n",
       "      <td>13.23</td>\n",
       "      <td>57.09</td>\n",
       "      <td>17.23</td>\n",
       "      <td>15.31</td>\n",
       "      <td>0.45</td>\n",
       "      <td>10.59</td>\n",
       "      <td>14.46</td>\n",
       "      <td>0.06</td>\n",
       "      <td>0.49</td>\n",
       "      <td>1.06</td>\n",
       "      <td>78.0</td>\n",
       "      <td>Satisfactory</td>\n",
       "    </tr>\n",
       "    <tr>\n",
       "      <th>2017-09-04</th>\n",
       "      <td>Hyderabad</td>\n",
       "      <td>23.00</td>\n",
       "      <td>62.17</td>\n",
       "      <td>6.93</td>\n",
       "      <td>46.21</td>\n",
       "      <td>3.46</td>\n",
       "      <td>44.05</td>\n",
       "      <td>0.07</td>\n",
       "      <td>3.71</td>\n",
       "      <td>14.74</td>\n",
       "      <td>0.01</td>\n",
       "      <td>0.04</td>\n",
       "      <td>0.06</td>\n",
       "      <td>49.0</td>\n",
       "      <td>Good</td>\n",
       "    </tr>\n",
       "    <tr>\n",
       "      <th>2017-09-05</th>\n",
       "      <td>Hyderabad</td>\n",
       "      <td>15.46</td>\n",
       "      <td>65.00</td>\n",
       "      <td>9.88</td>\n",
       "      <td>52.18</td>\n",
       "      <td>9.57</td>\n",
       "      <td>53.10</td>\n",
       "      <td>0.22</td>\n",
       "      <td>4.28</td>\n",
       "      <td>14.68</td>\n",
       "      <td>0.03</td>\n",
       "      <td>0.19</td>\n",
       "      <td>0.32</td>\n",
       "      <td>NaN</td>\n",
       "      <td>NaN</td>\n",
       "    </tr>\n",
       "  </tbody>\n",
       "</table>\n",
       "</div>"
      ],
      "text/plain": [
       "                 City  PM2.5   PM10     NO    NO2    NOx    NH3    CO    SO2  \\\n",
       "Date                                                                           \n",
       "2017-09-01  Hyderabad  10.46  46.57  20.22  76.06   7.60  53.08  0.11   6.94   \n",
       "2017-09-02  Hyderabad   6.31  28.63  10.71  44.71  13.01  31.07  0.39   7.71   \n",
       "2017-09-03  Hyderabad  10.40  30.27  13.23  57.09  17.23  15.31  0.45  10.59   \n",
       "2017-09-04  Hyderabad  23.00  62.17   6.93  46.21   3.46  44.05  0.07   3.71   \n",
       "2017-09-05  Hyderabad  15.46  65.00   9.88  52.18   9.57  53.10  0.22   4.28   \n",
       "\n",
       "               O3  Benzene  Toluene  Xylene   AQI    AQI_Bucket  \n",
       "Date                                                             \n",
       "2017-09-01  15.01     0.02     0.11    0.36   NaN           NaN  \n",
       "2017-09-02  13.53     0.06     0.85    0.11  87.0  Satisfactory  \n",
       "2017-09-03  14.46     0.06     0.49    1.06  78.0  Satisfactory  \n",
       "2017-09-04  14.74     0.01     0.04    0.06  49.0          Good  \n",
       "2017-09-05  14.68     0.03     0.19    0.32   NaN           NaN  "
      ]
     },
     "execution_count": 2,
     "metadata": {},
     "output_type": "execute_result"
    }
   ],
   "source": [
    "data = pd.read_csv('data.csv', index_col=[\"Date\"])\n",
    "data.head()"
   ]
  },
  {
   "cell_type": "code",
   "execution_count": 3,
   "metadata": {},
   "outputs": [
    {
     "data": {
      "text/html": [
       "<div>\n",
       "<style scoped>\n",
       "    .dataframe tbody tr th:only-of-type {\n",
       "        vertical-align: middle;\n",
       "    }\n",
       "\n",
       "    .dataframe tbody tr th {\n",
       "        vertical-align: top;\n",
       "    }\n",
       "\n",
       "    .dataframe thead th {\n",
       "        text-align: right;\n",
       "    }\n",
       "</style>\n",
       "<table border=\"1\" class=\"dataframe\">\n",
       "  <thead>\n",
       "    <tr style=\"text-align: right;\">\n",
       "      <th></th>\n",
       "      <th>City</th>\n",
       "      <th>Date</th>\n",
       "      <th>PM2.5</th>\n",
       "      <th>PM10</th>\n",
       "      <th>NO</th>\n",
       "      <th>NO2</th>\n",
       "      <th>NOx</th>\n",
       "      <th>NH3</th>\n",
       "      <th>CO</th>\n",
       "      <th>SO2</th>\n",
       "      <th>O3</th>\n",
       "      <th>Benzene</th>\n",
       "      <th>Toluene</th>\n",
       "      <th>Xylene</th>\n",
       "      <th>AQI</th>\n",
       "      <th>AQI_Bucket</th>\n",
       "    </tr>\n",
       "  </thead>\n",
       "  <tbody>\n",
       "    <tr>\n",
       "      <th>0</th>\n",
       "      <td>Hyderabad</td>\n",
       "      <td>2017-09-01</td>\n",
       "      <td>10.46</td>\n",
       "      <td>46.57</td>\n",
       "      <td>20.22</td>\n",
       "      <td>76.06</td>\n",
       "      <td>7.60</td>\n",
       "      <td>53.08</td>\n",
       "      <td>0.11</td>\n",
       "      <td>6.94</td>\n",
       "      <td>15.01</td>\n",
       "      <td>0.02</td>\n",
       "      <td>0.11</td>\n",
       "      <td>0.36</td>\n",
       "      <td>NaN</td>\n",
       "      <td>NaN</td>\n",
       "    </tr>\n",
       "    <tr>\n",
       "      <th>1</th>\n",
       "      <td>Hyderabad</td>\n",
       "      <td>2017-09-02</td>\n",
       "      <td>6.31</td>\n",
       "      <td>28.63</td>\n",
       "      <td>10.71</td>\n",
       "      <td>44.71</td>\n",
       "      <td>13.01</td>\n",
       "      <td>31.07</td>\n",
       "      <td>0.39</td>\n",
       "      <td>7.71</td>\n",
       "      <td>13.53</td>\n",
       "      <td>0.06</td>\n",
       "      <td>0.85</td>\n",
       "      <td>0.11</td>\n",
       "      <td>87.0</td>\n",
       "      <td>Satisfactory</td>\n",
       "    </tr>\n",
       "    <tr>\n",
       "      <th>2</th>\n",
       "      <td>Hyderabad</td>\n",
       "      <td>2017-09-03</td>\n",
       "      <td>10.40</td>\n",
       "      <td>30.27</td>\n",
       "      <td>13.23</td>\n",
       "      <td>57.09</td>\n",
       "      <td>17.23</td>\n",
       "      <td>15.31</td>\n",
       "      <td>0.45</td>\n",
       "      <td>10.59</td>\n",
       "      <td>14.46</td>\n",
       "      <td>0.06</td>\n",
       "      <td>0.49</td>\n",
       "      <td>1.06</td>\n",
       "      <td>78.0</td>\n",
       "      <td>Satisfactory</td>\n",
       "    </tr>\n",
       "    <tr>\n",
       "      <th>3</th>\n",
       "      <td>Hyderabad</td>\n",
       "      <td>2017-09-04</td>\n",
       "      <td>23.00</td>\n",
       "      <td>62.17</td>\n",
       "      <td>6.93</td>\n",
       "      <td>46.21</td>\n",
       "      <td>3.46</td>\n",
       "      <td>44.05</td>\n",
       "      <td>0.07</td>\n",
       "      <td>3.71</td>\n",
       "      <td>14.74</td>\n",
       "      <td>0.01</td>\n",
       "      <td>0.04</td>\n",
       "      <td>0.06</td>\n",
       "      <td>49.0</td>\n",
       "      <td>Good</td>\n",
       "    </tr>\n",
       "    <tr>\n",
       "      <th>4</th>\n",
       "      <td>Hyderabad</td>\n",
       "      <td>2017-09-05</td>\n",
       "      <td>15.46</td>\n",
       "      <td>65.00</td>\n",
       "      <td>9.88</td>\n",
       "      <td>52.18</td>\n",
       "      <td>9.57</td>\n",
       "      <td>53.10</td>\n",
       "      <td>0.22</td>\n",
       "      <td>4.28</td>\n",
       "      <td>14.68</td>\n",
       "      <td>0.03</td>\n",
       "      <td>0.19</td>\n",
       "      <td>0.32</td>\n",
       "      <td>NaN</td>\n",
       "      <td>NaN</td>\n",
       "    </tr>\n",
       "  </tbody>\n",
       "</table>\n",
       "</div>"
      ],
      "text/plain": [
       "        City        Date  PM2.5   PM10     NO    NO2    NOx    NH3    CO  \\\n",
       "0  Hyderabad  2017-09-01  10.46  46.57  20.22  76.06   7.60  53.08  0.11   \n",
       "1  Hyderabad  2017-09-02   6.31  28.63  10.71  44.71  13.01  31.07  0.39   \n",
       "2  Hyderabad  2017-09-03  10.40  30.27  13.23  57.09  17.23  15.31  0.45   \n",
       "3  Hyderabad  2017-09-04  23.00  62.17   6.93  46.21   3.46  44.05  0.07   \n",
       "4  Hyderabad  2017-09-05  15.46  65.00   9.88  52.18   9.57  53.10  0.22   \n",
       "\n",
       "     SO2     O3  Benzene  Toluene  Xylene   AQI    AQI_Bucket  \n",
       "0   6.94  15.01     0.02     0.11    0.36   NaN           NaN  \n",
       "1   7.71  13.53     0.06     0.85    0.11  87.0  Satisfactory  \n",
       "2  10.59  14.46     0.06     0.49    1.06  78.0  Satisfactory  \n",
       "3   3.71  14.74     0.01     0.04    0.06  49.0          Good  \n",
       "4   4.28  14.68     0.03     0.19    0.32   NaN           NaN  "
      ]
     },
     "execution_count": 3,
     "metadata": {},
     "output_type": "execute_result"
    }
   ],
   "source": [
    "da = pd.read_csv('data.csv')\n",
    "da.head()"
   ]
  },
  {
   "cell_type": "code",
   "execution_count": 4,
   "metadata": {},
   "outputs": [
    {
     "name": "stdout",
     "output_type": "stream",
     "text": [
      "<class 'pandas.core.frame.DataFrame'>\n",
      "RangeIndex: 1379 entries, 0 to 1378\n",
      "Data columns (total 16 columns):\n",
      " #   Column      Non-Null Count  Dtype  \n",
      "---  ------      --------------  -----  \n",
      " 0   City        1379 non-null   object \n",
      " 1   Date        1379 non-null   object \n",
      " 2   PM2.5       1379 non-null   float64\n",
      " 3   PM10        1377 non-null   float64\n",
      " 4   NO          1379 non-null   float64\n",
      " 5   NO2         1379 non-null   float64\n",
      " 6   NOx         1379 non-null   float64\n",
      " 7   NH3         1378 non-null   float64\n",
      " 8   CO          1379 non-null   float64\n",
      " 9   SO2         1379 non-null   float64\n",
      " 10  O3          1379 non-null   float64\n",
      " 11  Benzene     1379 non-null   float64\n",
      " 12  Toluene     1379 non-null   float64\n",
      " 13  Xylene      1379 non-null   float64\n",
      " 14  AQI         1365 non-null   float64\n",
      " 15  AQI_Bucket  1365 non-null   object \n",
      "dtypes: float64(13), object(3)\n",
      "memory usage: 172.5+ KB\n"
     ]
    }
   ],
   "source": [
    "da.info()"
   ]
  },
  {
   "cell_type": "code",
   "execution_count": 5,
   "metadata": {},
   "outputs": [
    {
     "name": "stdout",
     "output_type": "stream",
     "text": [
      "<class 'pandas.core.frame.DataFrame'>\n",
      "RangeIndex: 1379 entries, 0 to 1378\n",
      "Data columns (total 16 columns):\n",
      " #   Column      Non-Null Count  Dtype         \n",
      "---  ------      --------------  -----         \n",
      " 0   City        1379 non-null   object        \n",
      " 1   Date        1379 non-null   datetime64[ns]\n",
      " 2   PM2.5       1379 non-null   float64       \n",
      " 3   PM10        1377 non-null   float64       \n",
      " 4   NO          1379 non-null   float64       \n",
      " 5   NO2         1379 non-null   float64       \n",
      " 6   NOx         1379 non-null   float64       \n",
      " 7   NH3         1378 non-null   float64       \n",
      " 8   CO          1379 non-null   float64       \n",
      " 9   SO2         1379 non-null   float64       \n",
      " 10  O3          1379 non-null   float64       \n",
      " 11  Benzene     1379 non-null   float64       \n",
      " 12  Toluene     1379 non-null   float64       \n",
      " 13  Xylene      1379 non-null   float64       \n",
      " 14  AQI         1365 non-null   float64       \n",
      " 15  AQI_Bucket  1365 non-null   object        \n",
      "dtypes: datetime64[ns](1), float64(13), object(2)\n",
      "memory usage: 172.5+ KB\n"
     ]
    }
   ],
   "source": [
    "da['Date'] = pd.to_datetime(da['Date'])\n",
    "da.info()"
   ]
  },
  {
   "cell_type": "markdown",
   "metadata": {},
   "source": [
    "--> For this model, we are only looking at the PM2.5 Level concentration through the city of Hyderabad. So, since we are taking a time series model<br>\n",
    "--> only the date and the pm2.5 levels are enough for forecasting"
   ]
  },
  {
   "cell_type": "code",
   "execution_count": 6,
   "metadata": {},
   "outputs": [
    {
     "data": {
      "text/html": [
       "<div>\n",
       "<style scoped>\n",
       "    .dataframe tbody tr th:only-of-type {\n",
       "        vertical-align: middle;\n",
       "    }\n",
       "\n",
       "    .dataframe tbody tr th {\n",
       "        vertical-align: top;\n",
       "    }\n",
       "\n",
       "    .dataframe thead th {\n",
       "        text-align: right;\n",
       "    }\n",
       "</style>\n",
       "<table border=\"1\" class=\"dataframe\">\n",
       "  <thead>\n",
       "    <tr style=\"text-align: right;\">\n",
       "      <th></th>\n",
       "      <th>PM2.5</th>\n",
       "    </tr>\n",
       "    <tr>\n",
       "      <th>Date</th>\n",
       "      <th></th>\n",
       "    </tr>\n",
       "  </thead>\n",
       "  <tbody>\n",
       "    <tr>\n",
       "      <th>2017-09-01</th>\n",
       "      <td>10.46</td>\n",
       "    </tr>\n",
       "    <tr>\n",
       "      <th>2017-09-02</th>\n",
       "      <td>6.31</td>\n",
       "    </tr>\n",
       "    <tr>\n",
       "      <th>2017-09-03</th>\n",
       "      <td>10.40</td>\n",
       "    </tr>\n",
       "    <tr>\n",
       "      <th>2017-09-04</th>\n",
       "      <td>23.00</td>\n",
       "    </tr>\n",
       "    <tr>\n",
       "      <th>2017-09-05</th>\n",
       "      <td>15.46</td>\n",
       "    </tr>\n",
       "  </tbody>\n",
       "</table>\n",
       "</div>"
      ],
      "text/plain": [
       "            PM2.5\n",
       "Date             \n",
       "2017-09-01  10.46\n",
       "2017-09-02   6.31\n",
       "2017-09-03  10.40\n",
       "2017-09-04  23.00\n",
       "2017-09-05  15.46"
      ]
     },
     "execution_count": 6,
     "metadata": {},
     "output_type": "execute_result"
    }
   ],
   "source": [
    "df = da[['PM2.5', 'Date']]\n",
    "df.set_index(\"Date\", inplace = True)\n",
    "df.head()"
   ]
  },
  {
   "cell_type": "code",
   "execution_count": 7,
   "metadata": {},
   "outputs": [
    {
     "data": {
      "text/plain": [
       "1379"
      ]
     },
     "execution_count": 7,
     "metadata": {},
     "output_type": "execute_result"
    }
   ],
   "source": [
    "len(df)"
   ]
  },
  {
   "cell_type": "markdown",
   "metadata": {},
   "source": [
    "we can see that we find only 1873 columns, this can be becaue of the fact that some rows are null and i have removed them manually while cleaning the data in excel"
   ]
  },
  {
   "cell_type": "code",
   "execution_count": 8,
   "metadata": {},
   "outputs": [
    {
     "data": {
      "image/png": "[encoded data removed]",
      "text/plain": [
       "<Figure size 720x504 with 1 Axes>"
      ]
     },
     "metadata": {
      "needs_background": "light"
     },
     "output_type": "display_data"
    }
   ],
   "source": [
    "df.plot(figsize=(10, 7))\n",
    "plt.title(\"AQI\", fontsize=16)\n",
    "plt.legend(fontsize=14);"
   ]
  },
  {
   "cell_type": "code",
   "execution_count": 9,
   "metadata": {},
   "outputs": [],
   "source": [
    "timesteps = df.index.to_numpy()\n",
    "prices = df[\"PM2.5\"].to_numpy()"
   ]
  },
  {
   "cell_type": "code",
   "execution_count": 10,
   "metadata": {},
   "outputs": [
    {
     "data": {
      "text/plain": [
       "(1103, 276, 1103, 276)"
      ]
     },
     "execution_count": 10,
     "metadata": {},
     "output_type": "execute_result"
    }
   ],
   "source": [
    "# Create train and test splits the right way for time series data\n",
    "split_size = int(0.8 * len(prices)) # 80% train, 20% test\n",
    "\n",
    "# Create train data splits (everything before the split)\n",
    "X_train, y_train = timesteps[:split_size], prices[:split_size]\n",
    "\n",
    "# Create test data splits (everything after the split)\n",
    "X_test, y_test = timesteps[split_size:], prices[split_size:]\n",
    "\n",
    "len(X_train), len(X_test), len(y_train), len(y_test)"
   ]
  },
  {
   "cell_type": "markdown",
   "metadata": {},
   "source": [
    "#### Data manipulation (stationatiy and trend)"
   ]
  },
  {
   "cell_type": "code",
   "execution_count": 11,
   "metadata": {},
   "outputs": [],
   "source": [
    "from statsmodels.tsa.seasonal import seasonal_decompose\n",
    "\n",
    "result = seasonal_decompose(x=df['PM2.5'], model='additive', period=6)"
   ]
  },
  {
   "cell_type": "code",
   "execution_count": 12,
   "metadata": {},
   "outputs": [
    {
     "data": {
      "text/plain": [
       "[<matplotlib.lines.Line2D at 0x29c5fb7f1c0>]"
      ]
     },
     "execution_count": 12,
     "metadata": {},
     "output_type": "execute_result"
    },
    {
     "data": {
      "image/png": "[encoded data removed]",
      "text/plain": [
       "<Figure size 432x288 with 1 Axes>"
      ]
     },
     "metadata": {
      "needs_background": "light"
     },
     "output_type": "display_data"
    }
   ],
   "source": [
    "plt.plot(result.trend)"
   ]
  },
  {
   "cell_type": "code",
   "execution_count": 13,
   "metadata": {},
   "outputs": [
    {
     "data": {
      "text/plain": [
       "[<matplotlib.lines.Line2D at 0x29c5fc03ca0>]"
      ]
     },
     "execution_count": 13,
     "metadata": {},
     "output_type": "execute_result"
    },
    {
     "data": {
      "image/png": "[encoded data removed]",
      "text/plain": [
       "<Figure size 432x288 with 1 Axes>"
      ]
     },
     "metadata": {
      "needs_background": "light"
     },
     "output_type": "display_data"
    }
   ],
   "source": [
    "plt.plot(result.seasonal)"
   ]
  },
  {
   "cell_type": "code",
   "execution_count": 14,
   "metadata": {},
   "outputs": [
    {
     "data": {
      "text/plain": [
       "[<matplotlib.lines.Line2D at 0x29c5fc1bbb0>]"
      ]
     },
     "execution_count": 14,
     "metadata": {},
     "output_type": "execute_result"
    },
    {
     "data": {
      "image/png": "[encoded data removed]",
      "text/plain": [
       "<Figure size 432x288 with 1 Axes>"
      ]
     },
     "metadata": {
      "needs_background": "light"
     },
     "output_type": "display_data"
    }
   ],
   "source": [
    "plt.plot(result.resid)"
   ]
  },
  {
   "cell_type": "code",
   "execution_count": 15,
   "metadata": {},
   "outputs": [
    {
     "name": "stdout",
     "output_type": "stream",
     "text": [
      "ADF Test Statistic : -3.0629992471640253\n",
      "p-value : 0.02941536859715904\n",
      "#Lags Used : 11\n",
      "Number of Observations Used : 1367\n",
      "strong evidence against the null hypothesis(Ho), reject the null hypothesis. Data has no unit root and is stationary\n"
     ]
    }
   ],
   "source": [
    "### Testing For Stationarity\n",
    "\n",
    "from statsmodels.tsa.stattools import adfuller\n",
    "test_result=adfuller(df['PM2.5'])\n",
    "\n",
    "\n",
    "#Ho: It is non stationary\n",
    "#H1: It is stationary\n",
    "\n",
    "def adfuller_test(data):\n",
    "    result=adfuller(data)\n",
    "    labels = ['ADF Test Statistic','p-value','#Lags Used','Number of Observations Used']\n",
    "    for value,label in zip(result,labels):\n",
    "        print(label+' : '+str(value) )\n",
    "    if result[1] <= 0.05:\n",
    "        print(\"strong evidence against the null hypothesis(Ho), reject the null hypothesis. Data has no unit root and is stationary\")\n",
    "    else:\n",
    "        print(\"weak evidence against null hypothesis, time series has a unit root, indicating it is non-stationary \")\n",
    "    \n",
    "adfuller_test(df['PM2.5'])"
   ]
  },
  {
   "cell_type": "code",
   "execution_count": 16,
   "metadata": {},
   "outputs": [],
   "source": [
    "# Create a function to plot time series data\n",
    "def plot_time_series(timesteps, values, format='.', start=0, end=None, label=None):\n",
    "    \"\"\"\n",
    "  Plots a timesteps (a series of points in time) against values (a series of values across timesteps).\n",
    "  \n",
    "  Parameters\n",
    "  ---------\n",
    "  timesteps : array of timesteps\n",
    "  values : array of values across time\n",
    "  format : style of plot, default \".\"\n",
    "  start : where to start the plot (setting a value will index from start of timesteps & values)\n",
    "  end : where to end the plot (setting a value will index from end of timesteps & values)\n",
    "  label : label to show on plot of values\n",
    "  \"\"\"\n",
    "    plt.plot(timesteps[start:end], values[start:end], format, label=label)\n",
    "    plt.xlabel(\"Time\")\n",
    "    plt.ylabel(\"BTC Price\")\n",
    "    if label:\n",
    "        plt.legend(fontsize=14) # make label bigger\n",
    "    plt.grid(True)"
   ]
  },
  {
   "cell_type": "code",
   "execution_count": 17,
   "metadata": {},
   "outputs": [
    {
     "data": {
      "image/png": "[encoded data removed]",
      "text/plain": [
       "<Figure size 720x504 with 1 Axes>"
      ]
     },
     "metadata": {
      "needs_background": "light"
     },
     "output_type": "display_data"
    }
   ],
   "source": [
    "# Try out our plotting function\n",
    "plt.figure(figsize=(10, 7))\n",
    "plot_time_series(timesteps=X_train, values=y_train, label=\"Train data\")\n",
    "plot_time_series(timesteps=X_test, values=y_test, label=\"Test data\")"
   ]
  },
  {
   "cell_type": "markdown",
   "metadata": {},
   "source": [
    "#### Model 0: Naïve forecast (baseline)"
   ]
  },
  {
   "cell_type": "markdown",
   "metadata": {},
   "source": [
    "use the previous timestep value to predict the next timestep value."
   ]
  },
  {
   "cell_type": "code",
   "execution_count": 18,
   "metadata": {},
   "outputs": [
    {
     "data": {
      "text/plain": [
       "(array([16.32, 18.39, 22.47, 28.23, 28.85, 25.01, 25.6 , 20.54, 25.81,\n",
       "        27.01]),\n",
       " array([19.57, 23.02, 19.49, 20.2 , 17.96, 20.26, 19.96, 17.19,  9.87,\n",
       "         9.8 ]))"
      ]
     },
     "execution_count": 18,
     "metadata": {},
     "output_type": "execute_result"
    }
   ],
   "source": [
    "# Create a naïve forecast\n",
    "naive_forecast = y_test[:-1] # Naïve forecast equals every value excluding the last value\n",
    "naive_forecast[:10], naive_forecast[-10:] # View frist 10 and last 10 "
   ]
  },
  {
   "cell_type": "code",
   "execution_count": 19,
   "metadata": {},
   "outputs": [
    {
     "data": {
      "image/png": "[encoded data removed]",
      "text/plain": [
       "<Figure size 720x504 with 1 Axes>"
      ]
     },
     "metadata": {
      "needs_background": "light"
     },
     "output_type": "display_data"
    }
   ],
   "source": [
    "# Plot naive forecast\n",
    "plt.figure(figsize=(10, 7))\n",
    "plot_time_series(timesteps=X_train, values=y_train, label=\"Train data\")\n",
    "plot_time_series(timesteps=X_test, values=y_test, label=\"Test data\")\n",
    "plot_time_series(timesteps=X_test[1:], values=naive_forecast, format=\"-\", label=\"Naive forecast\");"
   ]
  },
  {
   "cell_type": "code",
   "execution_count": 20,
   "metadata": {},
   "outputs": [
    {
     "data": {
      "image/png": "[encoded data removed]",
      "text/plain": [
       "<Figure size 720x504 with 1 Axes>"
      ]
     },
     "metadata": {
      "needs_background": "light"
     },
     "output_type": "display_data"
    }
   ],
   "source": [
    "plt.figure(figsize=(10, 7))\n",
    "offset = 270 # offset the values by 270 timesteps \n",
    "plot_time_series(timesteps=X_test, values=y_test, start=offset, label=\"Test data\")\n",
    "plot_time_series(timesteps=X_test[1:], values=naive_forecast, format=\"-\", start=offset, label=\"Naive forecast\");"
   ]
  },
  {
   "cell_type": "markdown",
   "metadata": {},
   "source": [
    "not a perfect fit"
   ]
  },
  {
   "cell_type": "markdown",
   "metadata": {},
   "source": [
    "#### Important parameters"
   ]
  },
  {
   "cell_type": "code",
   "execution_count": 21,
   "metadata": {},
   "outputs": [],
   "source": [
    "import tensorflow as tf"
   ]
  },
  {
   "cell_type": "code",
   "execution_count": 22,
   "metadata": {},
   "outputs": [],
   "source": [
    "def mean_absolute_scaled_error(y_true, y_pred):\n",
    "    tf.reduce_mean(tf.abs(y_true - y_pred))\n",
    "    # Find MAE of naive forecast (no seasonality)\n",
    "    mae = tf.reduce_mean(tf.abs(y_true - y_pred))\n",
    "    mae_naive_no_season = tf.reduce_mean(tf.abs(y_true[1:] - y_true[:-1])) # our seasonality is 1 day (hence the shifting of 1 day)\n",
    "\n",
    "    return mae / mae_naive_no_season"
   ]
  },
  {
   "cell_type": "code",
   "execution_count": 23,
   "metadata": {},
   "outputs": [],
   "source": [
    "def evaluate_preds(y_true, y_pred):\n",
    "  # Make sure float32 (for metric calculations)\n",
    "    y_true = tf.cast(y_true, dtype=tf.float32)\n",
    "    y_pred = tf.cast(y_pred, dtype=tf.float32)\n",
    "\n",
    "  # Calculate various metrics\n",
    "    mae = tf.keras.metrics.mean_absolute_error(y_true, y_pred)\n",
    "    mse = tf.keras.metrics.mean_squared_error(y_true, y_pred) # puts and emphasis on outliers (all errors get squared)\n",
    "    rmse = tf.sqrt(mse)\n",
    "    mape = tf.keras.metrics.mean_absolute_percentage_error(y_true, y_pred)\n",
    "    mase = mean_absolute_scaled_error(y_true, y_pred)\n",
    "  \n",
    "    return {\"mae\": mae.numpy(),\n",
    "          \"mse\": mse.numpy(),\n",
    "          \"rmse\": rmse.numpy(),\n",
    "          \"mape\": mape.numpy(),\n",
    "          \"mase\": mase.numpy()}"
   ]
  },
  {
   "cell_type": "code",
   "execution_count": 24,
   "metadata": {},
   "outputs": [
    {
     "data": {
      "text/plain": [
       "{'mae': 6.3385816,\n",
       " 'mse': 73.929634,\n",
       " 'rmse': 8.598234,\n",
       " 'mape': 16.50278,\n",
       " 'mase': 0.99754816}"
      ]
     },
     "execution_count": 24,
     "metadata": {},
     "output_type": "execute_result"
    }
   ],
   "source": [
    "naive_results = evaluate_preds(y_true=y_test[1:],\n",
    "                               y_pred=naive_forecast)\n",
    "naive_results"
   ]
  },
  {
   "cell_type": "code",
   "execution_count": 25,
   "metadata": {},
   "outputs": [
    {
     "data": {
      "text/plain": [
       "42.68007246376811"
      ]
     },
     "execution_count": 25,
     "metadata": {},
     "output_type": "execute_result"
    }
   ],
   "source": [
    "# Find average AQI in test dataset\n",
    "tf.reduce_mean(y_test).numpy()"
   ]
  },
  {
   "cell_type": "markdown",
   "metadata": {},
   "source": [
    "#### Making windows of our time series to make it used in supervised learning"
   ]
  },
  {
   "cell_type": "code",
   "execution_count": 26,
   "metadata": {},
   "outputs": [],
   "source": [
    "HORIZON = 1 # predict 1 step at a time\n",
    "WINDOW_SIZE = 7 # use a week worth of timesteps to predict the horizon"
   ]
  },
  {
   "cell_type": "code",
   "execution_count": 27,
   "metadata": {},
   "outputs": [],
   "source": [
    "# Create function to label windowed data\n",
    "def get_labelled_windows(x, horizon=1):\n",
    "    \"\"\"\n",
    "  Creates labels for windowed dataset.\n",
    "\n",
    "  E.g. if horizon=1 (default)\n",
    "  Input: [1, 2, 3, 4, 5, 6] -> Output: ([1, 2, 3, 4, 5], [6])\n",
    "  \"\"\"\n",
    "    return x[:, :-horizon], x[:, -horizon:]"
   ]
  },
  {
   "cell_type": "code",
   "execution_count": 28,
   "metadata": {},
   "outputs": [
    {
     "name": "stdout",
     "output_type": "stream",
     "text": [
      "Window: [1 2 3 4 5 6 7] -> Label: 8\n"
     ]
    }
   ],
   "source": [
    "# Test out the window labelling function\n",
    "test_window, test_label = get_labelled_windows(tf.expand_dims(tf.range(8)+1, axis=0), horizon=HORIZON)\n",
    "print(f\"Window: {tf.squeeze(test_window).numpy()} -> Label: {tf.squeeze(test_label).numpy()}\")"
   ]
  },
  {
   "cell_type": "markdown",
   "metadata": {},
   "source": [
    "#### For entire dataset"
   ]
  },
  {
   "cell_type": "code",
   "execution_count": 29,
   "metadata": {},
   "outputs": [],
   "source": [
    "# Create function to view NumPy arrays as windows \n",
    "def make_windows(x, window_size=7, horizon=1):\n",
    "    \"\"\"\n",
    "  Turns a 1D array into a 2D array of sequential windows of window_size.\n",
    "  \"\"\"\n",
    "  # 1. Create a window of specific window_size (add the horizon on the end for later labelling)\n",
    "    window_step = np.expand_dims(np.arange(window_size+horizon), axis=0)\n",
    "  # print(f\"Window step:\\n {window_step}\")\n",
    "\n",
    "  # 2. Create a 2D array of multiple window steps (minus 1 to account for 0 indexing)\n",
    "    window_indexes = window_step + np.expand_dims(np.arange(len(x)-(window_size+horizon-1)), axis=0).T # create 2D array of windows of size window_size\n",
    "  # print(f\"Window indexes:\\n {window_indexes[:3], window_indexes[-3:], window_indexes.shape}\")\n",
    "\n",
    "  # 3. Index on the target array (time series) with 2D array of multiple window steps\n",
    "    windowed_array = x[window_indexes]\n",
    "\n",
    "  # 4. Get the labelled windows\n",
    "    windows, labels = get_labelled_windows(windowed_array, horizon=horizon)\n",
    "\n",
    "    return windows, labels"
   ]
  },
  {
   "cell_type": "code",
   "execution_count": 30,
   "metadata": {},
   "outputs": [
    {
     "data": {
      "text/plain": [
       "(1372, 1372)"
      ]
     },
     "execution_count": 30,
     "metadata": {},
     "output_type": "execute_result"
    }
   ],
   "source": [
    "full_windows, full_labels = make_windows(prices, window_size=WINDOW_SIZE, horizon=HORIZON)\n",
    "len(full_windows), len(full_labels)"
   ]
  },
  {
   "cell_type": "code",
   "execution_count": 31,
   "metadata": {},
   "outputs": [
    {
     "name": "stdout",
     "output_type": "stream",
     "text": [
      "Window: [10.46  6.31 10.4  23.   15.46 28.28 37.15] -> Label: [25.]\n",
      "Window: [ 6.31 10.4  23.   15.46 28.28 37.15 25.  ] -> Label: [35.34]\n",
      "Window: [10.4  23.   15.46 28.28 37.15 25.   35.34] -> Label: [37.09]\n"
     ]
    }
   ],
   "source": [
    "# View the first 3 windows/labels\n",
    "for i in range(3):\n",
    "    print(f\"Window: {full_windows[i]} -> Label: {full_labels[i]}\")"
   ]
  },
  {
   "cell_type": "code",
   "execution_count": 32,
   "metadata": {},
   "outputs": [
    {
     "name": "stdout",
     "output_type": "stream",
     "text": [
      "Window: [23.02 19.49 20.2  17.96 20.26 19.96 17.19] -> Label: [9.87]\n",
      "Window: [19.49 20.2  17.96 20.26 19.96 17.19  9.87] -> Label: [9.8]\n",
      "Window: [20.2  17.96 20.26 19.96 17.19  9.87  9.8 ] -> Label: [13.53]\n"
     ]
    }
   ],
   "source": [
    "# View the last 3 windows/labels\n",
    "for i in range(3):\n",
    "    print(f\"Window: {full_windows[i-3]} -> Label: {full_labels[i-3]}\")"
   ]
  },
  {
   "cell_type": "markdown",
   "metadata": {},
   "source": [
    "#### Turning windows into training and test sets"
   ]
  },
  {
   "cell_type": "code",
   "execution_count": 33,
   "metadata": {},
   "outputs": [],
   "source": [
    "# Make the train/test splits\n",
    "def make_train_test_splits(windows, labels, test_split=0.2):\n",
    "    \"\"\"\n",
    "  Splits matching pairs of windows and labels into train and test splits.\n",
    "  \"\"\"\n",
    "    split_size = int(len(windows) * (1-test_split)) # this will default to 80% train/20% test\n",
    "    train_windows = windows[:split_size]\n",
    "    train_labels = labels[:split_size]\n",
    "    test_windows = windows[split_size:]\n",
    "    test_labels = labels[split_size:]\n",
    "    return train_windows, test_windows, train_labels, test_labels"
   ]
  },
  {
   "cell_type": "code",
   "execution_count": 34,
   "metadata": {},
   "outputs": [
    {
     "data": {
      "text/plain": [
       "(1097, 275, 1097, 275)"
      ]
     },
     "execution_count": 34,
     "metadata": {},
     "output_type": "execute_result"
    }
   ],
   "source": [
    "train_windows, test_windows, train_labels, test_labels = make_train_test_splits(full_windows, full_labels)\n",
    "len(train_windows), len(test_windows), len(train_labels), len(test_labels)"
   ]
  },
  {
   "cell_type": "markdown",
   "metadata": {},
   "source": [
    "#### Model checkpoint to note the best performance on preferred parameters"
   ]
  },
  {
   "cell_type": "code",
   "execution_count": 35,
   "metadata": {},
   "outputs": [],
   "source": [
    "import os\n",
    "\n",
    "# Create a function to implement a ModelCheckpoint callback with a specific filename \n",
    "def create_model_checkpoint(model_name, save_path=\"model_experiments\"):\n",
    "    return tf.keras.callbacks.ModelCheckpoint(filepath=os.path.join(save_path, model_name), # create filepath to save model\n",
    "                                            verbose=0, # only output a limited amount of text\n",
    "                                            save_best_only=True) # save only the best model to file"
   ]
  },
  {
   "cell_type": "markdown",
   "metadata": {},
   "source": [
    "## Model 1: Dense model (window = 7, horizon = 1)\n",
    "\n",
    "\n",
    "We're going to start by keeping it simple, `model_1` will have:\n",
    "* A single dense layer with 128 hidden units and ReLU (rectified linear unit) activation\n",
    "* An output layer with linear activation (or no activation)\n",
    "* Adam optimizer and MAE loss function\n",
    "* Batch size of 128\n",
    "* 100 epochs\n",
    "\n",
    "Why these values?\n",
    "\n",
    "I picked them out of experimentation. \n",
    "\n",
    "A batch size of 32 works pretty well too and we could always train for less epochs but since the model runs so fast (you'll see in a second, it's because the number of samples we have isn't massive) we might as well train for more.\n",
    "\n",
    "> 🔑 **Note:** As always, many of the values for machine learning problems are experimental. A reminder that the values you can set yourself in a machine learning algorithm (the hidden units, the batch size, horizon size, window size) are called [**hyperparameters**](https://en.wikipedia.org/wiki/Hyperparameter_(machine_learning)). And experimenting to find the best values for hyperparameters is called **hyperparameter tuning**. Where as parameters learned by a model itself (patterns in the data, formally called weights & biases) are referred to as **parameters**.\n",
    "\n",
    "Let's import TensorFlow and build our first deep learning model for time series."
   ]
  },
  {
   "cell_type": "code",
   "execution_count": 36,
   "metadata": {},
   "outputs": [
    {
     "name": "stdout",
     "output_type": "stream",
     "text": [
      "Epoch 1/100\n",
      "1/9 [==>...........................] - ETA: 0s - loss: 27.1683 - mae: 27.1683WARNING:tensorflow:From C:\\Users\\User\\Anaconda3\\lib\\site-packages\\tensorflow\\python\\training\\tracking\\tracking.py:111: Model.state_updates (from tensorflow.python.keras.engine.training) is deprecated and will be removed in a future version.\n",
      "Instructions for updating:\n",
      "This property should not be used in TensorFlow 2.0, as updates are applied automatically.\n",
      "WARNING:tensorflow:From C:\\Users\\User\\Anaconda3\\lib\\site-packages\\tensorflow\\python\\training\\tracking\\tracking.py:111: Layer.updates (from tensorflow.python.keras.engine.base_layer) is deprecated and will be removed in a future version.\n",
      "Instructions for updating:\n",
      "This property should not be used in TensorFlow 2.0, as updates are applied automatically.\n",
      "INFO:tensorflow:Assets written to: model_experiments\\model_1_dense\\assets\n",
      "9/9 [==============================] - 2s 207ms/step - loss: 16.9570 - mae: 16.9570 - val_loss: 9.6686 - val_mae: 9.6686\n",
      "Epoch 2/100\n",
      "9/9 [==============================] - 0s 4ms/step - loss: 8.4325 - mae: 8.4325 - val_loss: 10.2017 - val_mae: 10.2017\n",
      "Epoch 3/100\n",
      "1/9 [==>...........................] - ETA: 0s - loss: 9.6664 - mae: 9.6664INFO:tensorflow:Assets written to: model_experiments\\model_1_dense\\assets\n",
      "9/9 [==============================] - 1s 126ms/step - loss: 7.8007 - mae: 7.8007 - val_loss: 9.0435 - val_mae: 9.0435\n",
      "Epoch 4/100\n",
      "1/9 [==>...........................] - ETA: 0s - loss: 8.2292 - mae: 8.2292INFO:tensorflow:Assets written to: model_experiments\\model_1_dense\\assets\n",
      "9/9 [==============================] - 1s 132ms/step - loss: 7.5495 - mae: 7.5495 - val_loss: 8.4713 - val_mae: 8.4713\n",
      "Epoch 5/100\n",
      "1/9 [==>...........................] - ETA: 0s - loss: 7.2810 - mae: 7.2810INFO:tensorflow:Assets written to: model_experiments\\model_1_dense\\assets\n",
      "9/9 [==============================] - 1s 157ms/step - loss: 6.9757 - mae: 6.9757 - val_loss: 8.2495 - val_mae: 8.2495\n",
      "Epoch 6/100\n",
      "1/9 [==>...........................] - ETA: 0s - loss: 7.5079 - mae: 7.5079INFO:tensorflow:Assets written to: model_experiments\\model_1_dense\\assets\n",
      "9/9 [==============================] - 1s 154ms/step - loss: 6.6376 - mae: 6.6376 - val_loss: 7.7785 - val_mae: 7.7785\n",
      "Epoch 7/100\n",
      "1/9 [==>...........................] - ETA: 0s - loss: 6.8420 - mae: 6.8420INFO:tensorflow:Assets written to: model_experiments\\model_1_dense\\assets\n",
      "9/9 [==============================] - 1s 139ms/step - loss: 6.4492 - mae: 6.4492 - val_loss: 7.5987 - val_mae: 7.5987\n",
      "Epoch 8/100\n",
      "1/9 [==>...........................] - ETA: 0s - loss: 7.0004 - mae: 7.0004INFO:tensorflow:Assets written to: model_experiments\\model_1_dense\\assets\n",
      "9/9 [==============================] - 1s 114ms/step - loss: 6.3592 - mae: 6.3592 - val_loss: 7.2582 - val_mae: 7.2582\n",
      "Epoch 9/100\n",
      "1/9 [==>...........................] - ETA: 0s - loss: 6.3400 - mae: 6.3400INFO:tensorflow:Assets written to: model_experiments\\model_1_dense\\assets\n",
      "9/9 [==============================] - 1s 120ms/step - loss: 6.2477 - mae: 6.2477 - val_loss: 7.0559 - val_mae: 7.0559\n",
      "Epoch 10/100\n",
      "9/9 [==============================] - 0s 5ms/step - loss: 6.2265 - mae: 6.2265 - val_loss: 7.2644 - val_mae: 7.2644\n",
      "Epoch 11/100\n",
      "1/9 [==>...........................] - ETA: 0s - loss: 7.7058 - mae: 7.7058INFO:tensorflow:Assets written to: model_experiments\\model_1_dense\\assets\n",
      "9/9 [==============================] - 1s 137ms/step - loss: 6.1647 - mae: 6.1647 - val_loss: 6.9492 - val_mae: 6.9492\n",
      "Epoch 12/100\n",
      "1/9 [==>...........................] - ETA: 0s - loss: 6.2978 - mae: 6.2978INFO:tensorflow:Assets written to: model_experiments\\model_1_dense\\assets\n",
      "9/9 [==============================] - 1s 153ms/step - loss: 6.2005 - mae: 6.2005 - val_loss: 6.9458 - val_mae: 6.9458\n",
      "Epoch 13/100\n",
      "1/9 [==>...........................] - ETA: 0s - loss: 5.9768 - mae: 5.9768INFO:tensorflow:Assets written to: model_experiments\\model_1_dense\\assets\n",
      "9/9 [==============================] - 1s 163ms/step - loss: 6.0873 - mae: 6.0873 - val_loss: 6.8655 - val_mae: 6.8655\n",
      "Epoch 14/100\n",
      "1/9 [==>...........................] - ETA: 0s - loss: 5.5894 - mae: 5.5894INFO:tensorflow:Assets written to: model_experiments\\model_1_dense\\assets\n",
      "9/9 [==============================] - 2s 175ms/step - loss: 6.0473 - mae: 6.0473 - val_loss: 6.7124 - val_mae: 6.7124\n",
      "Epoch 15/100\n",
      "9/9 [==============================] - 0s 5ms/step - loss: 6.0109 - mae: 6.0109 - val_loss: 6.7904 - val_mae: 6.7904\n",
      "Epoch 16/100\n",
      "1/9 [==>...........................] - ETA: 0s - loss: 6.0425 - mae: 6.0425INFO:tensorflow:Assets written to: model_experiments\\model_1_dense\\assets\n",
      "9/9 [==============================] - 1s 149ms/step - loss: 5.9857 - mae: 5.9857 - val_loss: 6.6792 - val_mae: 6.6792\n",
      "Epoch 17/100\n",
      "1/9 [==>...........................] - ETA: 0s - loss: 6.0950 - mae: 6.0950INFO:tensorflow:Assets written to: model_experiments\\model_1_dense\\assets\n",
      "9/9 [==============================] - 2s 167ms/step - loss: 5.9598 - mae: 5.9598 - val_loss: 6.6090 - val_mae: 6.6090\n",
      "Epoch 18/100\n",
      "9/9 [==============================] - 0s 4ms/step - loss: 5.9963 - mae: 5.9963 - val_loss: 6.9389 - val_mae: 6.9389\n",
      "Epoch 19/100\n",
      "1/9 [==>...........................] - ETA: 0s - loss: 6.4244 - mae: 6.4244INFO:tensorflow:Assets written to: model_experiments\\model_1_dense\\assets\n",
      "9/9 [==============================] - 1s 152ms/step - loss: 5.9979 - mae: 5.9979 - val_loss: 6.5329 - val_mae: 6.5329\n",
      "Epoch 20/100\n",
      "9/9 [==============================] - 0s 3ms/step - loss: 5.9200 - mae: 5.9200 - val_loss: 6.5490 - val_mae: 6.5490\n",
      "Epoch 21/100\n",
      "9/9 [==============================] - 0s 3ms/step - loss: 5.8987 - mae: 5.8987 - val_loss: 6.5558 - val_mae: 6.5558\n",
      "Epoch 22/100\n",
      "9/9 [==============================] - 0s 2ms/step - loss: 5.9224 - mae: 5.9224 - val_loss: 6.6759 - val_mae: 6.6759\n",
      "Epoch 23/100\n",
      "9/9 [==============================] - 0s 2ms/step - loss: 5.9923 - mae: 5.9923 - val_loss: 6.5339 - val_mae: 6.5339\n",
      "Epoch 24/100\n",
      "1/9 [==>...........................] - ETA: 0s - loss: 6.2492 - mae: 6.2492INFO:tensorflow:Assets written to: model_experiments\\model_1_dense\\assets\n",
      "9/9 [==============================] - 1s 149ms/step - loss: 5.8893 - mae: 5.8893 - val_loss: 6.4414 - val_mae: 6.4414\n",
      "Epoch 25/100\n",
      "9/9 [==============================] - 0s 4ms/step - loss: 5.8945 - mae: 5.8945 - val_loss: 6.4833 - val_mae: 6.4833\n",
      "Epoch 26/100\n",
      "1/9 [==>...........................] - ETA: 0s - loss: 5.3680 - mae: 5.3680INFO:tensorflow:Assets written to: model_experiments\\model_1_dense\\assets\n",
      "9/9 [==============================] - 1s 141ms/step - loss: 5.8441 - mae: 5.8441 - val_loss: 6.4306 - val_mae: 6.4306\n",
      "Epoch 27/100\n",
      "1/9 [==>...........................] - ETA: 0s - loss: 5.4703 - mae: 5.4703INFO:tensorflow:Assets written to: model_experiments\\model_1_dense\\assets\n",
      "9/9 [==============================] - 2s 200ms/step - loss: 5.8316 - mae: 5.8316 - val_loss: 6.3942 - val_mae: 6.3942\n",
      "Epoch 28/100\n",
      "9/9 [==============================] - 0s 5ms/step - loss: 5.8149 - mae: 5.8149 - val_loss: 6.4053 - val_mae: 6.4053\n",
      "Epoch 29/100\n",
      "1/9 [==>...........................] - ETA: 0s - loss: 5.8145 - mae: 5.8145INFO:tensorflow:Assets written to: model_experiments\\model_1_dense\\assets\n",
      "9/9 [==============================] - 1s 164ms/step - loss: 5.8102 - mae: 5.8102 - val_loss: 6.3717 - val_mae: 6.3717\n",
      "Epoch 30/100\n",
      "9/9 [==============================] - 0s 3ms/step - loss: 5.7938 - mae: 5.7938 - val_loss: 6.4432 - val_mae: 6.4432\n",
      "Epoch 31/100\n",
      "1/9 [==>...........................] - ETA: 0s - loss: 5.5624 - mae: 5.5624INFO:tensorflow:Assets written to: model_experiments\\model_1_dense\\assets\n",
      "9/9 [==============================] - 1s 149ms/step - loss: 5.8112 - mae: 5.8112 - val_loss: 6.3501 - val_mae: 6.3501\n",
      "Epoch 32/100\n",
      "9/9 [==============================] - 0s 3ms/step - loss: 5.7885 - mae: 5.7885 - val_loss: 6.3567 - val_mae: 6.3567\n",
      "Epoch 33/100\n",
      "9/9 [==============================] - 0s 15ms/step - loss: 5.7691 - mae: 5.7691 - val_loss: 6.5066 - val_mae: 6.5066\n",
      "Epoch 34/100\n",
      "1/9 [==>...........................] - ETA: 0s - loss: 5.8049 - mae: 5.8049INFO:tensorflow:Assets written to: model_experiments\\model_1_dense\\assets\n",
      "9/9 [==============================] - 1s 145ms/step - loss: 5.8615 - mae: 5.8615 - val_loss: 6.3292 - val_mae: 6.3292\n"
     ]
    },
    {
     "name": "stdout",
     "output_type": "stream",
     "text": [
      "Epoch 35/100\n",
      "1/9 [==>...........................] - ETA: 0s - loss: 6.2014 - mae: 6.2014INFO:tensorflow:Assets written to: model_experiments\\model_1_dense\\assets\n",
      "9/9 [==============================] - 1s 166ms/step - loss: 5.8153 - mae: 5.8153 - val_loss: 6.3223 - val_mae: 6.3223\n",
      "Epoch 36/100\n",
      "9/9 [==============================] - 0s 4ms/step - loss: 5.8919 - mae: 5.8919 - val_loss: 6.4808 - val_mae: 6.4808\n",
      "Epoch 37/100\n",
      "9/9 [==============================] - 0s 4ms/step - loss: 5.8630 - mae: 5.8630 - val_loss: 6.3859 - val_mae: 6.3859\n",
      "Epoch 38/100\n",
      "1/9 [==>...........................] - ETA: 0s - loss: 6.1602 - mae: 6.1602INFO:tensorflow:Assets written to: model_experiments\\model_1_dense\\assets\n",
      "9/9 [==============================] - 1s 143ms/step - loss: 5.7725 - mae: 5.7725 - val_loss: 6.3143 - val_mae: 6.3143\n",
      "Epoch 39/100\n",
      "1/9 [==>...........................] - ETA: 0s - loss: 4.7165 - mae: 4.7165INFO:tensorflow:Assets written to: model_experiments\\model_1_dense\\assets\n",
      "9/9 [==============================] - 1s 129ms/step - loss: 5.8064 - mae: 5.8064 - val_loss: 6.3060 - val_mae: 6.3060\n",
      "Epoch 40/100\n",
      "9/9 [==============================] - 0s 3ms/step - loss: 5.7589 - mae: 5.7589 - val_loss: 6.3749 - val_mae: 6.3749\n",
      "Epoch 41/100\n",
      "9/9 [==============================] - 0s 3ms/step - loss: 5.7700 - mae: 5.7700 - val_loss: 6.3698 - val_mae: 6.3698\n",
      "Epoch 42/100\n",
      "1/9 [==>...........................] - ETA: 0s - loss: 5.8356 - mae: 5.8356INFO:tensorflow:Assets written to: model_experiments\\model_1_dense\\assets\n",
      "9/9 [==============================] - 1s 117ms/step - loss: 5.7352 - mae: 5.7352 - val_loss: 6.2987 - val_mae: 6.2987\n",
      "Epoch 43/100\n",
      "9/9 [==============================] - 0s 3ms/step - loss: 5.7387 - mae: 5.7387 - val_loss: 6.3592 - val_mae: 6.3592\n",
      "Epoch 44/100\n",
      "1/9 [==>...........................] - ETA: 0s - loss: 5.5624 - mae: 5.5624INFO:tensorflow:Assets written to: model_experiments\\model_1_dense\\assets\n",
      "9/9 [==============================] - 1s 117ms/step - loss: 5.7191 - mae: 5.7191 - val_loss: 6.2792 - val_mae: 6.2792\n",
      "Epoch 45/100\n",
      "9/9 [==============================] - 0s 3ms/step - loss: 5.7479 - mae: 5.7479 - val_loss: 6.2874 - val_mae: 6.2874\n",
      "Epoch 46/100\n",
      "9/9 [==============================] - 0s 4ms/step - loss: 5.7410 - mae: 5.7410 - val_loss: 6.3472 - val_mae: 6.3472\n",
      "Epoch 47/100\n",
      "9/9 [==============================] - 0s 3ms/step - loss: 5.7171 - mae: 5.7171 - val_loss: 6.3755 - val_mae: 6.3755\n",
      "Epoch 48/100\n",
      "9/9 [==============================] - 0s 3ms/step - loss: 5.7207 - mae: 5.7207 - val_loss: 6.3044 - val_mae: 6.3044\n",
      "Epoch 49/100\n",
      "9/9 [==============================] - 0s 3ms/step - loss: 5.7355 - mae: 5.7355 - val_loss: 6.3683 - val_mae: 6.3683\n",
      "Epoch 50/100\n",
      "9/9 [==============================] - 0s 3ms/step - loss: 5.7005 - mae: 5.7005 - val_loss: 6.2881 - val_mae: 6.2881\n",
      "Epoch 51/100\n",
      "9/9 [==============================] - 0s 3ms/step - loss: 5.7197 - mae: 5.7197 - val_loss: 6.2817 - val_mae: 6.2817\n",
      "Epoch 52/100\n",
      "9/9 [==============================] - 0s 3ms/step - loss: 5.7252 - mae: 5.7252 - val_loss: 6.2930 - val_mae: 6.2930\n",
      "Epoch 53/100\n",
      "9/9 [==============================] - 0s 3ms/step - loss: 5.7354 - mae: 5.7354 - val_loss: 6.2869 - val_mae: 6.2869\n",
      "Epoch 54/100\n",
      "9/9 [==============================] - 0s 3ms/step - loss: 5.6868 - mae: 5.6868 - val_loss: 6.3033 - val_mae: 6.3033\n",
      "Epoch 55/100\n",
      "9/9 [==============================] - 0s 3ms/step - loss: 5.7224 - mae: 5.7224 - val_loss: 6.5989 - val_mae: 6.5989\n",
      "Epoch 56/100\n",
      "9/9 [==============================] - 0s 4ms/step - loss: 5.7489 - mae: 5.7489 - val_loss: 6.4318 - val_mae: 6.4318\n",
      "Epoch 57/100\n",
      "9/9 [==============================] - 0s 2ms/step - loss: 5.7319 - mae: 5.7319 - val_loss: 6.2900 - val_mae: 6.2900\n",
      "Epoch 58/100\n",
      "9/9 [==============================] - 0s 3ms/step - loss: 5.6843 - mae: 5.6843 - val_loss: 6.3044 - val_mae: 6.3044\n",
      "Epoch 59/100\n",
      "9/9 [==============================] - 0s 3ms/step - loss: 5.6818 - mae: 5.6818 - val_loss: 6.3505 - val_mae: 6.3505\n",
      "Epoch 60/100\n",
      "9/9 [==============================] - 0s 3ms/step - loss: 5.6966 - mae: 5.6966 - val_loss: 6.3663 - val_mae: 6.3663\n",
      "Epoch 61/100\n",
      "9/9 [==============================] - 0s 3ms/step - loss: 5.6972 - mae: 5.6972 - val_loss: 6.3163 - val_mae: 6.3163\n",
      "Epoch 62/100\n",
      "9/9 [==============================] - 0s 3ms/step - loss: 5.7209 - mae: 5.7209 - val_loss: 6.3217 - val_mae: 6.3217\n",
      "Epoch 63/100\n",
      "9/9 [==============================] - 0s 3ms/step - loss: 5.6960 - mae: 5.6960 - val_loss: 6.2991 - val_mae: 6.2991\n",
      "Epoch 64/100\n",
      "9/9 [==============================] - 0s 3ms/step - loss: 5.6978 - mae: 5.6978 - val_loss: 6.3117 - val_mae: 6.3117\n",
      "Epoch 65/100\n",
      "9/9 [==============================] - 0s 3ms/step - loss: 5.6752 - mae: 5.6752 - val_loss: 6.3109 - val_mae: 6.3109\n",
      "Epoch 66/100\n",
      "9/9 [==============================] - 0s 2ms/step - loss: 5.6784 - mae: 5.6784 - val_loss: 6.3747 - val_mae: 6.3747\n",
      "Epoch 67/100\n",
      "9/9 [==============================] - 0s 3ms/step - loss: 5.7544 - mae: 5.7544 - val_loss: 6.2949 - val_mae: 6.2949\n",
      "Epoch 68/100\n",
      "9/9 [==============================] - 0s 3ms/step - loss: 5.6624 - mae: 5.6624 - val_loss: 6.3317 - val_mae: 6.3317\n",
      "Epoch 69/100\n",
      "9/9 [==============================] - 0s 4ms/step - loss: 5.6641 - mae: 5.6641 - val_loss: 6.3002 - val_mae: 6.3002\n",
      "Epoch 70/100\n",
      "9/9 [==============================] - 0s 3ms/step - loss: 5.6657 - mae: 5.6657 - val_loss: 6.2888 - val_mae: 6.2888\n",
      "Epoch 71/100\n",
      "9/9 [==============================] - 0s 3ms/step - loss: 5.6626 - mae: 5.6626 - val_loss: 6.7233 - val_mae: 6.7233\n",
      "Epoch 72/100\n",
      "9/9 [==============================] - 0s 3ms/step - loss: 5.9133 - mae: 5.9133 - val_loss: 6.4331 - val_mae: 6.4331\n",
      "Epoch 73/100\n",
      "9/9 [==============================] - 0s 3ms/step - loss: 5.8752 - mae: 5.8752 - val_loss: 6.4657 - val_mae: 6.4657\n",
      "Epoch 74/100\n",
      "9/9 [==============================] - 0s 3ms/step - loss: 5.8785 - mae: 5.8785 - val_loss: 6.2906 - val_mae: 6.2906\n",
      "Epoch 75/100\n",
      "9/9 [==============================] - 0s 3ms/step - loss: 5.8167 - mae: 5.8167 - val_loss: 6.5226 - val_mae: 6.5226\n",
      "Epoch 76/100\n",
      "9/9 [==============================] - 0s 4ms/step - loss: 5.6886 - mae: 5.6886 - val_loss: 6.3650 - val_mae: 6.3650\n",
      "Epoch 77/100\n",
      "9/9 [==============================] - 0s 3ms/step - loss: 5.7101 - mae: 5.7101 - val_loss: 6.3074 - val_mae: 6.3074\n",
      "Epoch 78/100\n",
      "9/9 [==============================] - 0s 3ms/step - loss: 5.6887 - mae: 5.6887 - val_loss: 6.3275 - val_mae: 6.3275\n",
      "Epoch 79/100\n",
      "9/9 [==============================] - 0s 4ms/step - loss: 5.7155 - mae: 5.7155 - val_loss: 6.3103 - val_mae: 6.3103\n",
      "Epoch 80/100\n",
      "9/9 [==============================] - 0s 3ms/step - loss: 5.7642 - mae: 5.7642 - val_loss: 6.3795 - val_mae: 6.3795\n",
      "Epoch 81/100\n",
      "9/9 [==============================] - 0s 3ms/step - loss: 5.6913 - mae: 5.6913 - val_loss: 6.4550 - val_mae: 6.4550\n",
      "Epoch 82/100\n",
      "9/9 [==============================] - 0s 4ms/step - loss: 5.6961 - mae: 5.6961 - val_loss: 6.2911 - val_mae: 6.2911\n",
      "Epoch 83/100\n",
      "9/9 [==============================] - 0s 1ms/step - loss: 5.7256 - mae: 5.7256 - val_loss: 6.3309 - val_mae: 6.3309\n",
      "Epoch 84/100\n",
      "9/9 [==============================] - 0s 3ms/step - loss: 5.7064 - mae: 5.7064 - val_loss: 6.3217 - val_mae: 6.3217\n",
      "Epoch 85/100\n",
      "9/9 [==============================] - 0s 3ms/step - loss: 5.6358 - mae: 5.6358 - val_loss: 6.2936 - val_mae: 6.2936\n",
      "Epoch 86/100\n",
      "9/9 [==============================] - 0s 2ms/step - loss: 5.6361 - mae: 5.6361 - val_loss: 6.3454 - val_mae: 6.3454\n",
      "Epoch 87/100\n",
      "9/9 [==============================] - 0s 3ms/step - loss: 5.6185 - mae: 5.6185 - val_loss: 6.2922 - val_mae: 6.2922\n",
      "Epoch 88/100\n",
      "9/9 [==============================] - 0s 3ms/step - loss: 5.6464 - mae: 5.6464 - val_loss: 6.3286 - val_mae: 6.3286\n",
      "Epoch 89/100\n",
      "9/9 [==============================] - 0s 2ms/step - loss: 5.6884 - mae: 5.6884 - val_loss: 6.2885 - val_mae: 6.2885\n",
      "Epoch 90/100\n",
      "9/9 [==============================] - 0s 3ms/step - loss: 5.6780 - mae: 5.6780 - val_loss: 6.3128 - val_mae: 6.3128\n",
      "Epoch 91/100\n",
      "9/9 [==============================] - 0s 3ms/step - loss: 5.7096 - mae: 5.7096 - val_loss: 6.2973 - val_mae: 6.2973\n",
      "Epoch 92/100\n",
      "9/9 [==============================] - 0s 2ms/step - loss: 5.6837 - mae: 5.6837 - val_loss: 6.2915 - val_mae: 6.2915\n",
      "Epoch 93/100\n",
      "9/9 [==============================] - 0s 3ms/step - loss: 5.7033 - mae: 5.7033 - val_loss: 6.7576 - val_mae: 6.7576\n",
      "Epoch 94/100\n",
      "9/9 [==============================] - 0s 4ms/step - loss: 5.8054 - mae: 5.8054 - val_loss: 6.2923 - val_mae: 6.2923\n",
      "Epoch 95/100\n",
      "9/9 [==============================] - 0s 3ms/step - loss: 5.7103 - mae: 5.7103 - val_loss: 6.3383 - val_mae: 6.3383\n",
      "Epoch 96/100\n",
      "9/9 [==============================] - 0s 2ms/step - loss: 5.6940 - mae: 5.6940 - val_loss: 6.2971 - val_mae: 6.2971\n",
      "Epoch 97/100\n",
      "9/9 [==============================] - 0s 3ms/step - loss: 5.6297 - mae: 5.6297 - val_loss: 6.3872 - val_mae: 6.3872\n",
      "Epoch 98/100\n",
      "9/9 [==============================] - 0s 3ms/step - loss: 5.6251 - mae: 5.6251 - val_loss: 6.3083 - val_mae: 6.3083\n",
      "Epoch 99/100\n",
      "9/9 [==============================] - 0s 2ms/step - loss: 5.6130 - mae: 5.6130 - val_loss: 6.3050 - val_mae: 6.3050\n",
      "Epoch 100/100\n",
      "9/9 [==============================] - 0s 3ms/step - loss: 5.6072 - mae: 5.6072 - val_loss: 6.3080 - val_mae: 6.3080\n"
     ]
    },
    {
     "data": {
      "text/plain": [
       "<tensorflow.python.keras.callbacks.History at 0x29c690f1ee0>"
      ]
     },
     "execution_count": 36,
     "metadata": {},
     "output_type": "execute_result"
    }
   ],
   "source": [
    "import tensorflow as tf\n",
    "from tensorflow.keras import layers\n",
    "\n",
    "# Set random seed for as reproducible results as possible\n",
    "tf.random.set_seed(42)\n",
    "\n",
    "# Construct model\n",
    "model_1 = tf.keras.Sequential([\n",
    "  layers.Dense(128, activation=\"relu\"),\n",
    "  layers.Dense(HORIZON, activation=\"linear\") # linear activation is the same as having no activation                        \n",
    "], name=\"model_1_dense\") # give the model a name so we can save it\n",
    "\n",
    "# Compile model\n",
    "model_1.compile(loss=\"mae\",\n",
    "                optimizer=tf.keras.optimizers.Adam(),\n",
    "                metrics=[\"mae\"]) # we don't necessarily need this when the loss function is already MAE\n",
    "\n",
    "# Fit model\n",
    "model_1.fit(x=train_windows, # train windows of 7 timesteps of AQI\n",
    "            y=train_labels, # horizon value of 1 (using the previous 7 timesteps to predict next day)\n",
    "            epochs=100,\n",
    "            verbose=1,\n",
    "            batch_size=128,\n",
    "            validation_data=(test_windows, test_labels),\n",
    "            callbacks=[create_model_checkpoint(model_name=model_1.name)]) # create ModelCheckpoint callback to save best model"
   ]
  },
  {
   "cell_type": "code",
   "execution_count": 37,
   "metadata": {},
   "outputs": [
    {
     "name": "stdout",
     "output_type": "stream",
     "text": [
      "9/9 [==============================] - 0s 1ms/step - loss: 6.3080 - mae: 6.3080\n"
     ]
    },
    {
     "data": {
      "text/plain": [
       "[6.307955741882324, 6.307955741882324]"
      ]
     },
     "execution_count": 37,
     "metadata": {},
     "output_type": "execute_result"
    }
   ],
   "source": [
    "# Evaluate model on test data\n",
    "model_1.evaluate(test_windows, test_labels)"
   ]
  },
  {
   "cell_type": "markdown",
   "metadata": {},
   "source": [
    "the below is the use of creating check points"
   ]
  },
  {
   "cell_type": "code",
   "execution_count": 38,
   "metadata": {},
   "outputs": [
    {
     "name": "stdout",
     "output_type": "stream",
     "text": [
      "9/9 [==============================] - 0s 1ms/step - loss: 6.2792 - mean_absolute_error: 6.2792\n"
     ]
    },
    {
     "data": {
      "text/plain": [
       "[6.27922248840332, 6.27922248840332]"
      ]
     },
     "execution_count": 38,
     "metadata": {},
     "output_type": "execute_result"
    }
   ],
   "source": [
    "# Load in saved best performing model_1 and evaluate on test data\n",
    "model_1 = tf.keras.models.load_model(\"model_experiments/model_1_dense\")\n",
    "model_1.evaluate(test_windows, test_labels)"
   ]
  },
  {
   "cell_type": "markdown",
   "metadata": {},
   "source": [
    "#### making predictions"
   ]
  },
  {
   "cell_type": "code",
   "execution_count": 39,
   "metadata": {},
   "outputs": [],
   "source": [
    "def make_preds(model, input_data):\n",
    "    \"\"\"\n",
    "  Uses model to make predictions on input_data.\n",
    "\n",
    "  Parameters\n",
    "  ----------\n",
    "  model: trained model \n",
    "  input_data: windowed input data (same kind of data model was trained on)\n",
    "\n",
    "  Returns model predictions on input_data.\n",
    "  \"\"\"\n",
    "    forecast = model.predict(input_data)\n",
    "    return tf.squeeze(forecast) # return 1D array of predictions"
   ]
  },
  {
   "cell_type": "code",
   "execution_count": 40,
   "metadata": {},
   "outputs": [
    {
     "data": {
      "text/plain": [
       "(275,\n",
       " <tf.Tensor: shape=(10,), dtype=float32, numpy=\n",
       " array([16.468403, 17.44904 , 21.258179, 25.458439, 26.793095, 25.085735,\n",
       "        24.789143, 20.460018, 24.925385, 26.626793], dtype=float32)>)"
      ]
     },
     "execution_count": 40,
     "metadata": {},
     "output_type": "execute_result"
    }
   ],
   "source": [
    "# Make predictions using model_1 on the test dataset and view the results\n",
    "model_1_preds = make_preds(model_1, test_windows)\n",
    "len(model_1_preds), model_1_preds[:10]"
   ]
  },
  {
   "cell_type": "code",
   "execution_count": 41,
   "metadata": {},
   "outputs": [
    {
     "data": {
      "text/plain": [
       "{'mae': 6.279222,\n",
       " 'mse': 72.58966,\n",
       " 'rmse': 8.519957,\n",
       " 'mape': 16.429499,\n",
       " 'mase': 0.9882063}"
      ]
     },
     "execution_count": 41,
     "metadata": {},
     "output_type": "execute_result"
    }
   ],
   "source": [
    "# Evaluate preds\n",
    "model_1_results = evaluate_preds(y_true=tf.squeeze(test_labels), # reduce to right shape\n",
    "                                 y_pred=model_1_preds)\n",
    "model_1_results"
   ]
  },
  {
   "cell_type": "code",
   "execution_count": 42,
   "metadata": {},
   "outputs": [
    {
     "data": {
      "text/plain": [
       "{'mae': 6.3385816,\n",
       " 'mse': 73.929634,\n",
       " 'rmse': 8.598234,\n",
       " 'mape': 16.50278,\n",
       " 'mase': 0.99754816}"
      ]
     },
     "execution_count": 42,
     "metadata": {},
     "output_type": "execute_result"
    }
   ],
   "source": [
    "naive_results"
   ]
  },
  {
   "cell_type": "markdown",
   "metadata": {},
   "source": [
    "## Model 2: Dense (window = 30, horizon = 1)¶"
   ]
  },
  {
   "cell_type": "code",
   "execution_count": 43,
   "metadata": {},
   "outputs": [
    {
     "data": {
      "text/plain": [
       "(1349, 1349)"
      ]
     },
     "execution_count": 43,
     "metadata": {},
     "output_type": "execute_result"
    }
   ],
   "source": [
    "HORIZON = 1 # predict one step at a time\n",
    "WINDOW_SIZE = 30 # use 30 timesteps in the past\n",
    "\n",
    "# Make windowed data with appropriate horizon and window sizes\n",
    "full_windows, full_labels = make_windows(prices, window_size=WINDOW_SIZE, horizon=HORIZON)\n",
    "len(full_windows), len(full_labels)"
   ]
  },
  {
   "cell_type": "code",
   "execution_count": 44,
   "metadata": {},
   "outputs": [
    {
     "data": {
      "text/plain": [
       "(1079, 270, 1079, 270)"
      ]
     },
     "execution_count": 44,
     "metadata": {},
     "output_type": "execute_result"
    }
   ],
   "source": [
    "# Make train and testing windows\n",
    "train_windows, test_windows, train_labels, test_labels = make_train_test_splits(windows=full_windows, labels=full_labels)\n",
    "len(train_windows), len(test_windows), len(train_labels), len(test_labels)"
   ]
  },
  {
   "cell_type": "code",
   "execution_count": 45,
   "metadata": {},
   "outputs": [
    {
     "name": "stdout",
     "output_type": "stream",
     "text": [
      "INFO:tensorflow:Assets written to: model_experiments\\model_2_dense\\assets\n",
      "INFO:tensorflow:Assets written to: model_experiments\\model_2_dense\\assets\n",
      "INFO:tensorflow:Assets written to: model_experiments\\model_2_dense\\assets\n",
      "INFO:tensorflow:Assets written to: model_experiments\\model_2_dense\\assets\n",
      "INFO:tensorflow:Assets written to: model_experiments\\model_2_dense\\assets\n",
      "INFO:tensorflow:Assets written to: model_experiments\\model_2_dense\\assets\n",
      "INFO:tensorflow:Assets written to: model_experiments\\model_2_dense\\assets\n",
      "INFO:tensorflow:Assets written to: model_experiments\\model_2_dense\\assets\n",
      "INFO:tensorflow:Assets written to: model_experiments\\model_2_dense\\assets\n",
      "INFO:tensorflow:Assets written to: model_experiments\\model_2_dense\\assets\n",
      "INFO:tensorflow:Assets written to: model_experiments\\model_2_dense\\assets\n",
      "INFO:tensorflow:Assets written to: model_experiments\\model_2_dense\\assets\n",
      "INFO:tensorflow:Assets written to: model_experiments\\model_2_dense\\assets\n",
      "INFO:tensorflow:Assets written to: model_experiments\\model_2_dense\\assets\n",
      "INFO:tensorflow:Assets written to: model_experiments\\model_2_dense\\assets\n",
      "INFO:tensorflow:Assets written to: model_experiments\\model_2_dense\\assets\n",
      "INFO:tensorflow:Assets written to: model_experiments\\model_2_dense\\assets\n",
      "INFO:tensorflow:Assets written to: model_experiments\\model_2_dense\\assets\n",
      "INFO:tensorflow:Assets written to: model_experiments\\model_2_dense\\assets\n",
      "INFO:tensorflow:Assets written to: model_experiments\\model_2_dense\\assets\n",
      "INFO:tensorflow:Assets written to: model_experiments\\model_2_dense\\assets\n",
      "INFO:tensorflow:Assets written to: model_experiments\\model_2_dense\\assets\n",
      "INFO:tensorflow:Assets written to: model_experiments\\model_2_dense\\assets\n",
      "INFO:tensorflow:Assets written to: model_experiments\\model_2_dense\\assets\n",
      "INFO:tensorflow:Assets written to: model_experiments\\model_2_dense\\assets\n",
      "INFO:tensorflow:Assets written to: model_experiments\\model_2_dense\\assets\n",
      "INFO:tensorflow:Assets written to: model_experiments\\model_2_dense\\assets\n",
      "INFO:tensorflow:Assets written to: model_experiments\\model_2_dense\\assets\n",
      "INFO:tensorflow:Assets written to: model_experiments\\model_2_dense\\assets\n",
      "INFO:tensorflow:Assets written to: model_experiments\\model_2_dense\\assets\n",
      "INFO:tensorflow:Assets written to: model_experiments\\model_2_dense\\assets\n",
      "INFO:tensorflow:Assets written to: model_experiments\\model_2_dense\\assets\n",
      "INFO:tensorflow:Assets written to: model_experiments\\model_2_dense\\assets\n",
      "INFO:tensorflow:Assets written to: model_experiments\\model_2_dense\\assets\n",
      "INFO:tensorflow:Assets written to: model_experiments\\model_2_dense\\assets\n"
     ]
    },
    {
     "data": {
      "text/plain": [
       "<tensorflow.python.keras.callbacks.History at 0x29c6aa8b490>"
      ]
     },
     "execution_count": 45,
     "metadata": {},
     "output_type": "execute_result"
    }
   ],
   "source": [
    "tf.random.set_seed(42)\n",
    "\n",
    "# Create model (same model as model 1 but data input will be different)\n",
    "model_2 = tf.keras.Sequential([\n",
    "  layers.Dense(128, activation=\"relu\"),\n",
    "  layers.Dense(HORIZON) # need to predict horizon number of steps into the future\n",
    "], name=\"model_2_dense\")\n",
    "\n",
    "model_2.compile(loss=\"mae\",\n",
    "                optimizer=tf.keras.optimizers.Adam())\n",
    "\n",
    "model_2.fit(train_windows,\n",
    "            train_labels,\n",
    "            epochs=100,\n",
    "            batch_size=128,\n",
    "            verbose=0,\n",
    "            validation_data=(test_windows, test_labels),\n",
    "            callbacks=[create_model_checkpoint(model_name=model_2.name)])"
   ]
  },
  {
   "cell_type": "code",
   "execution_count": 46,
   "metadata": {},
   "outputs": [
    {
     "name": "stdout",
     "output_type": "stream",
     "text": [
      "9/9 [==============================] - 0s 1ms/step - loss: 6.4780\n"
     ]
    },
    {
     "data": {
      "text/plain": [
       "6.4780354499816895"
      ]
     },
     "execution_count": 46,
     "metadata": {},
     "output_type": "execute_result"
    }
   ],
   "source": [
    "# Load in best performing model\n",
    "model_2 = tf.keras.models.load_model(\"model_experiments/model_2_dense/\")\n",
    "model_2.evaluate(test_windows, test_labels)"
   ]
  },
  {
   "cell_type": "code",
   "execution_count": 47,
   "metadata": {},
   "outputs": [
    {
     "data": {
      "text/plain": [
       "{'mae': 6.478035,\n",
       " 'mse': 77.56966,\n",
       " 'rmse': 8.8073635,\n",
       " 'mape': 16.48021,\n",
       " 'mase': 1.009525}"
      ]
     },
     "execution_count": 47,
     "metadata": {},
     "output_type": "execute_result"
    }
   ],
   "source": [
    "# Get forecast predictions\n",
    "model_2_preds = make_preds(model_2,\n",
    "                           input_data=test_windows)\n",
    "# Evaluate results for model 2 predictions\n",
    "model_2_results = evaluate_preds(y_true=tf.squeeze(test_labels), # remove 1 dimension of test labels\n",
    "                                 y_pred=model_2_preds)\n",
    "model_2_results"
   ]
  },
  {
   "cell_type": "markdown",
   "metadata": {},
   "source": [
    "worse than the previous one"
   ]
  },
  {
   "cell_type": "markdown",
   "metadata": {},
   "source": [
    "## Model 3: Dense (window = 30, horizon = 7)"
   ]
  },
  {
   "cell_type": "code",
   "execution_count": 48,
   "metadata": {},
   "outputs": [
    {
     "data": {
      "text/plain": [
       "(1343, 1343)"
      ]
     },
     "execution_count": 48,
     "metadata": {},
     "output_type": "execute_result"
    }
   ],
   "source": [
    "HORIZON = 7 # predict one step at a time\n",
    "WINDOW_SIZE = 30 # use 30 timesteps in the past\n",
    "\n",
    "# Make windowed data with appropriate horizon and window sizes\n",
    "full_windows, full_labels = make_windows(prices, window_size=WINDOW_SIZE, horizon=HORIZON)\n",
    "len(full_windows), len(full_labels)"
   ]
  },
  {
   "cell_type": "code",
   "execution_count": 49,
   "metadata": {},
   "outputs": [
    {
     "data": {
      "text/plain": [
       "(1074, 269, 1074, 269)"
      ]
     },
     "execution_count": 49,
     "metadata": {},
     "output_type": "execute_result"
    }
   ],
   "source": [
    "train_windows, test_windows, train_labels, test_labels = make_train_test_splits(windows=full_windows, labels=full_labels, test_split=0.2)\n",
    "len(train_windows), len(test_windows), len(train_labels), len(test_labels)"
   ]
  },
  {
   "cell_type": "code",
   "execution_count": 50,
   "metadata": {
    "scrolled": true
   },
   "outputs": [
    {
     "name": "stdout",
     "output_type": "stream",
     "text": [
      "INFO:tensorflow:Assets written to: model_experiments\\model_3_dense\\assets\n",
      "INFO:tensorflow:Assets written to: model_experiments\\model_3_dense\\assets\n",
      "INFO:tensorflow:Assets written to: model_experiments\\model_3_dense\\assets\n",
      "INFO:tensorflow:Assets written to: model_experiments\\model_3_dense\\assets\n",
      "INFO:tensorflow:Assets written to: model_experiments\\model_3_dense\\assets\n",
      "INFO:tensorflow:Assets written to: model_experiments\\model_3_dense\\assets\n",
      "INFO:tensorflow:Assets written to: model_experiments\\model_3_dense\\assets\n",
      "INFO:tensorflow:Assets written to: model_experiments\\model_3_dense\\assets\n",
      "INFO:tensorflow:Assets written to: model_experiments\\model_3_dense\\assets\n",
      "INFO:tensorflow:Assets written to: model_experiments\\model_3_dense\\assets\n",
      "INFO:tensorflow:Assets written to: model_experiments\\model_3_dense\\assets\n",
      "INFO:tensorflow:Assets written to: model_experiments\\model_3_dense\\assets\n",
      "INFO:tensorflow:Assets written to: model_experiments\\model_3_dense\\assets\n",
      "INFO:tensorflow:Assets written to: model_experiments\\model_3_dense\\assets\n",
      "INFO:tensorflow:Assets written to: model_experiments\\model_3_dense\\assets\n",
      "INFO:tensorflow:Assets written to: model_experiments\\model_3_dense\\assets\n",
      "INFO:tensorflow:Assets written to: model_experiments\\model_3_dense\\assets\n",
      "INFO:tensorflow:Assets written to: model_experiments\\model_3_dense\\assets\n",
      "INFO:tensorflow:Assets written to: model_experiments\\model_3_dense\\assets\n",
      "INFO:tensorflow:Assets written to: model_experiments\\model_3_dense\\assets\n",
      "INFO:tensorflow:Assets written to: model_experiments\\model_3_dense\\assets\n",
      "INFO:tensorflow:Assets written to: model_experiments\\model_3_dense\\assets\n",
      "INFO:tensorflow:Assets written to: model_experiments\\model_3_dense\\assets\n",
      "INFO:tensorflow:Assets written to: model_experiments\\model_3_dense\\assets\n",
      "INFO:tensorflow:Assets written to: model_experiments\\model_3_dense\\assets\n",
      "INFO:tensorflow:Assets written to: model_experiments\\model_3_dense\\assets\n",
      "INFO:tensorflow:Assets written to: model_experiments\\model_3_dense\\assets\n",
      "INFO:tensorflow:Assets written to: model_experiments\\model_3_dense\\assets\n",
      "INFO:tensorflow:Assets written to: model_experiments\\model_3_dense\\assets\n",
      "INFO:tensorflow:Assets written to: model_experiments\\model_3_dense\\assets\n",
      "INFO:tensorflow:Assets written to: model_experiments\\model_3_dense\\assets\n",
      "INFO:tensorflow:Assets written to: model_experiments\\model_3_dense\\assets\n",
      "INFO:tensorflow:Assets written to: model_experiments\\model_3_dense\\assets\n",
      "INFO:tensorflow:Assets written to: model_experiments\\model_3_dense\\assets\n",
      "INFO:tensorflow:Assets written to: model_experiments\\model_3_dense\\assets\n",
      "INFO:tensorflow:Assets written to: model_experiments\\model_3_dense\\assets\n"
     ]
    },
    {
     "data": {
      "text/plain": [
       "<tensorflow.python.keras.callbacks.History at 0x29c6ab9db50>"
      ]
     },
     "execution_count": 50,
     "metadata": {},
     "output_type": "execute_result"
    }
   ],
   "source": [
    "# Create model (same as model_1 except with different data input size)\n",
    "model_3 = tf.keras.Sequential([\n",
    "  layers.Dense(128, activation=\"relu\"),\n",
    "  layers.Dense(HORIZON)\n",
    "], name=\"model_3_dense\")\n",
    "\n",
    "model_3.compile(loss=\"mae\",\n",
    "                optimizer=tf.keras.optimizers.Adam())\n",
    "\n",
    "model_3.fit(train_windows,\n",
    "            train_labels,\n",
    "            batch_size=128,\n",
    "            epochs=100,\n",
    "            verbose=0,\n",
    "            validation_data=(test_windows, test_labels),\n",
    "            callbacks=[create_model_checkpoint(model_name=model_3.name)])"
   ]
  },
  {
   "cell_type": "code",
   "execution_count": 51,
   "metadata": {},
   "outputs": [
    {
     "name": "stdout",
     "output_type": "stream",
     "text": [
      "9/9 [==============================] - 0s 2ms/step - loss: 10.6672\n"
     ]
    },
    {
     "data": {
      "text/plain": [
       "10.667226791381836"
      ]
     },
     "execution_count": 51,
     "metadata": {},
     "output_type": "execute_result"
    }
   ],
   "source": [
    "# Load in best performing model\n",
    "model_3 = tf.keras.models.load_model(\"model_experiments/model_3_dense/\")\n",
    "model_3.evaluate(test_windows, test_labels)"
   ]
  },
  {
   "cell_type": "code",
   "execution_count": 52,
   "metadata": {},
   "outputs": [
    {
     "data": {
      "text/plain": [
       "{'mae': array([ 8.282644 ,  8.579476 ,  8.05706  ,  5.5957694,  4.270797 ,\n",
       "         4.8440747,  3.8640943,  5.379136 ,  4.968495 ,  5.188067 ,\n",
       "         6.640615 ,  8.554085 ,  9.812169 , 11.303809 , 15.558947 ,\n",
       "        13.468144 ,  9.339388 ,  5.3994927,  9.600423 , 13.328477 ,\n",
       "        13.50876  , 12.648865 ,  9.321004 ,  7.5270085,  7.6224966,\n",
       "         7.83976  , 10.38339  ,  9.65323  , 10.827318 , 13.506111 ,\n",
       "        14.8045435, 14.588281 , 12.606439 , 14.244582 , 16.984516 ,\n",
       "         9.074631 ,  8.652483 ,  9.06738  , 12.841552 , 12.015159 ,\n",
       "        12.9684305, 13.377014 , 14.188937 , 15.142473 , 10.54698  ,\n",
       "        13.886088 , 17.457005 , 21.360737 , 23.897602 , 28.643297 ,\n",
       "        38.02329  , 40.379505 , 31.218079 , 13.482749 ,  7.7520914,\n",
       "         8.398027 ,  8.373976 ,  6.5669904,  6.6101565,  7.1211114,\n",
       "        14.50284  , 11.422786 , 11.549493 ,  9.948593 , 11.258269 ,\n",
       "        16.732592 , 14.037791 ,  6.69634  ,  4.9725747,  6.337787 ,\n",
       "         8.650827 , 11.062297 , 14.535551 , 15.592904 , 18.373861 ,\n",
       "        14.056209 , 14.522775 , 12.538093 , 13.291661 , 15.154336 ,\n",
       "        15.890193 , 17.455685 ,  9.940628 ,  8.824777 , 14.806005 ,\n",
       "        20.240416 , 19.176275 , 16.192661 , 15.880777 , 16.892778 ,\n",
       "        15.764109 , 11.953649 , 13.879416 , 21.370615 , 21.69955  ,\n",
       "        13.303833 ,  5.9006343,  7.052167 ,  6.4651084,  7.0000534,\n",
       "         7.8946652,  7.1782403,  9.536516 , 12.100806 , 16.464941 ,\n",
       "        20.471497 , 23.037313 , 22.08966  , 20.90256  , 12.025262 ,\n",
       "        11.475276 ,  9.189452 , 11.535604 , 10.620971 , 12.818192 ,\n",
       "        10.1640215, 12.447709 , 14.634367 , 16.495234 , 12.814691 ,\n",
       "        15.748546 , 18.575064 , 23.191057 , 26.94556  , 22.043222 ,\n",
       "        13.571297 , 10.303569 , 10.47149  , 10.64408  , 14.539107 ,\n",
       "        15.118775 , 14.399859 , 11.9569235,  8.093104 ,  6.750107 ,\n",
       "         7.866279 , 10.780134 , 13.095576 , 17.650806 , 21.92581  ,\n",
       "        25.425516 , 17.12603  , 16.089802 , 13.44509  ,  5.9200735,\n",
       "         6.284829 ,  7.671706 , 11.149436 , 16.160004 , 15.879098 ,\n",
       "        18.77202  , 19.822115 , 14.242528 ,  8.992452 , 11.797845 ,\n",
       "        13.460933 , 18.302103 , 20.394741 , 16.261816 , 13.8825445,\n",
       "        14.968536 , 11.173362 ,  6.14494  ,  6.3142457,  7.348755 ,\n",
       "         6.2284646,  7.8531113,  5.6151633,  5.4883156,  7.035354 ,\n",
       "         8.756937 , 11.799753 , 15.04127  , 21.634226 , 13.296301 ,\n",
       "        13.630246 , 11.001975 , 10.552933 ,  6.917278 ,  6.6533036,\n",
       "         6.220974 ,  4.518293 ,  6.501679 ,  6.987614 ,  6.2372394,\n",
       "         5.9531336,  7.3187685,  4.4637356,  3.8675387,  4.451314 ,\n",
       "         4.8395147,  4.5728574,  3.5641277,  5.787324 ,  8.3375025,\n",
       "         7.730935 ,  8.231214 ,  5.9885964,  7.199912 ,  8.908861 ,\n",
       "        10.982557 , 12.290543 , 11.924808 , 12.15464  ,  9.164976 ,\n",
       "         6.767192 ,  5.894901 ,  5.832963 ,  5.575785 ,  8.67702  ,\n",
       "         9.206397 ,  5.208895 ,  3.533633 ,  3.6943288,  6.37756  ,\n",
       "         5.8724055,  7.111846 ,  7.6005054,  5.5306864,  4.2485204,\n",
       "         3.5369372,  4.48664  ,  6.3236976,  6.5475473,  8.780801 ,\n",
       "         8.007554 ,  5.5062165,  4.518733 ,  3.5432534,  3.1817374,\n",
       "         4.707296 ,  4.1735806,  1.7889374,  3.521215 ,  3.082198 ,\n",
       "         3.732243 ,  3.8298018,  3.1981564,  3.93902  ,  4.361444 ,\n",
       "         3.3677335,  5.394879 ,  5.1499977,  6.0149145,  8.577574 ,\n",
       "         9.418455 ,  8.845798 ,  9.708003 ,  5.251259 ,  5.5127683,\n",
       "         6.1565313,  6.178416 ,  7.306405 ,  9.265708 ,  7.309125 ,\n",
       "         8.822217 , 10.911184 , 10.257354 ,  8.647387 ,  7.909745 ,\n",
       "         8.495623 , 10.217109 ,  5.870463 ,  3.4102871,  1.8747052,\n",
       "         2.6301188,  4.245276 ,  6.394145 ,  6.0660048], dtype=float32),\n",
       " 'mse': array([  82.24754  ,   82.106865 ,   71.52226  ,   42.45988  ,\n",
       "          33.068085 ,   34.155514 ,   23.809938 ,   41.164562 ,\n",
       "          33.325077 ,   37.00672  ,   63.299587 ,  103.066826 ,\n",
       "         125.69617  ,  154.87155  ,  269.49728  ,  195.84567  ,\n",
       "         105.36383  ,   61.855915 ,  154.09354  ,  235.27292  ,\n",
       "         231.5012   ,  222.15102  ,  147.1544   ,   96.89452  ,\n",
       "          69.74874  ,   68.75145  ,  116.308945 ,  114.28205  ,\n",
       "         158.24977  ,  220.60042  ,  232.06836  ,  244.64857  ,\n",
       "         213.75674  ,  272.7319   ,  333.55447  ,  101.388626 ,\n",
       "         102.52677  ,   90.50497  ,  231.8165   ,  218.87173  ,\n",
       "         230.0422   ,  286.77432  ,  287.38303  ,  361.47537  ,\n",
       "         197.99849  ,  263.4451   ,  497.5015   ,  712.1158   ,\n",
       "         949.6481   , 1123.6293   , 1649.3783   , 1743.8799   ,\n",
       "        1045.1659   ,  223.65685  ,  119.49882  ,   91.30595  ,\n",
       "         114.403984 ,   51.61969  ,   57.751743 ,   73.61316  ,\n",
       "         243.98508  ,  172.81871  ,  176.3882   ,  152.57912  ,\n",
       "         147.62328  ,  317.656    ,  226.01186  ,   60.03477  ,\n",
       "          30.9979   ,   61.239056 ,  100.031075 ,  168.59592  ,\n",
       "         302.64166  ,  353.7714   ,  437.16763  ,  304.46194  ,\n",
       "         286.8781   ,  195.42892  ,  198.1425   ,  276.78854  ,\n",
       "         338.6851   ,  415.28122  ,  137.55211  ,  103.52675  ,\n",
       "         331.99713  ,  541.39905  ,  526.4451   ,  405.06992  ,\n",
       "         355.6958   ,  376.24368  ,  284.96994  ,  176.15364  ,\n",
       "         267.48953  ,  508.10855  ,  481.8674   ,  199.97115  ,\n",
       "          50.11413  ,   58.990604 ,   51.64506  ,   73.84011  ,\n",
       "          78.06808  ,   57.974262 ,  109.246254 ,  231.8679   ,\n",
       "         402.3272   ,  509.90512  ,  666.75165  ,  683.89215  ,\n",
       "         614.7554   ,  231.33244  ,  170.19853  ,  104.34638  ,\n",
       "         202.41292  ,  144.74617  ,  189.40407  ,  138.93796  ,\n",
       "         176.86179  ,  310.99603  ,  333.20444  ,  233.66806  ,\n",
       "         339.39288  ,  434.4239   ,  592.9857   ,  784.8568   ,\n",
       "         504.31732  ,  212.12462  ,  113.31142  ,  136.75288  ,\n",
       "         163.21648  ,  259.87177  ,  253.74251  ,  240.72417  ,\n",
       "         178.00996  ,   93.678764 ,   89.231895 ,   99.64413  ,\n",
       "         159.22456  ,  198.20717  ,  388.1218   ,  577.24133  ,\n",
       "         692.9912   ,  338.44928  ,  295.83432  ,  195.38573  ,\n",
       "          46.157898 ,   61.36312  ,  107.6682   ,  265.8352   ,\n",
       "         443.51852  ,  356.73532  ,  428.25006  ,  443.47845  ,\n",
       "         263.1449   ,  123.12823  ,  222.15329  ,  274.81158  ,\n",
       "         470.30713  ,  510.71793  ,  353.00107  ,  288.3438   ,\n",
       "         256.36816  ,  140.03557  ,   63.01238  ,   70.37871  ,\n",
       "          89.447586 ,   57.239407 ,   79.00042  ,   47.696445 ,\n",
       "          45.47046  ,   64.17914  ,   96.22414  ,  171.73975  ,\n",
       "         250.93938  ,  502.0961   ,  220.22884  ,  208.45274  ,\n",
       "         137.02672  ,  119.211266 ,   75.04858  ,   60.10495  ,\n",
       "          47.40589  ,   33.98598  ,   51.29304  ,   60.176636 ,\n",
       "          45.58567  ,   54.09438  ,   85.36123  ,   23.71163  ,\n",
       "          17.248114 ,   29.553656 ,   29.466948 ,   26.90885  ,\n",
       "          25.77405  ,   53.0908   ,   99.9019   ,   87.206406 ,\n",
       "          85.25254  ,   53.147316 ,   85.587814 ,   98.24566  ,\n",
       "         158.37523  ,  185.69676  ,  171.00987  ,  168.75375  ,\n",
       "         114.20661  ,   70.29579  ,   49.107006 ,   39.12849  ,\n",
       "          39.577503 ,   86.844246 ,   85.4789   ,   36.659832 ,\n",
       "          19.803635 ,   22.88597  ,   57.126854 ,   46.585793 ,\n",
       "          65.73823  ,   66.09853  ,   41.80393  ,   23.870117 ,\n",
       "          22.793142 ,   40.890263 ,   55.189514 ,   56.985584 ,\n",
       "          91.665596 ,   77.45344  ,   40.27829  ,   27.269918 ,\n",
       "          22.167309 ,   15.440007 ,   26.828485 ,   24.890951 ,\n",
       "           5.1797366,   27.243242 ,   20.93719  ,   27.84335  ,\n",
       "          25.640247 ,   21.191244 ,   30.506107 ,   30.55438  ,\n",
       "          15.777906 ,   45.25672  ,   53.201427 ,   57.67498  ,\n",
       "          90.80565  ,  113.20888  ,  107.268936 ,  111.1968   ,\n",
       "          49.693798 ,   57.11601  ,   63.938633 ,   53.980175 ,\n",
       "          80.19088  ,  102.798035 ,   73.0219   ,   96.73097  ,\n",
       "         162.29272  ,  152.43994  ,   98.979675 ,   79.80609  ,\n",
       "          82.30835  ,  125.182175 ,   45.107044 ,   16.661047 ,\n",
       "           4.665737 ,    7.9686427,   31.969997 ,   65.30825  ,\n",
       "          65.65171  ], dtype=float32),\n",
       " 'rmse': array([ 9.069042 ,  9.061284 ,  8.457084 ,  6.5161247,  5.7504854,\n",
       "         5.844271 ,  4.879543 ,  6.415962 ,  5.7727876,  6.083315 ,\n",
       "         7.9561033, 10.152184 , 11.21143  , 12.44474  , 16.41637  ,\n",
       "        13.994487 , 10.2646885,  7.8648534, 12.413443 , 15.338608 ,\n",
       "        15.215163 , 14.904732 , 12.130721 ,  9.843502 ,  8.35157  ,\n",
       "         8.291649 , 10.784662 , 10.690278 , 12.579735 , 14.852624 ,\n",
       "        15.23379  , 15.641247 , 14.620422 , 16.514597 , 18.263474 ,\n",
       "        10.069193 , 10.12555  ,  9.51341  , 15.225522 , 14.794314 ,\n",
       "        15.167142 , 16.934412 , 16.952375 , 19.012506 , 14.071194 ,\n",
       "        16.230991 , 22.304743 , 26.6855   , 30.816364 , 33.52058  ,\n",
       "        40.612537 , 41.759785 , 32.329025 , 14.955161 , 10.931552 ,\n",
       "         9.555415 , 10.69598  ,  7.1846843,  7.599457 ,  8.579811 ,\n",
       "        15.620021 , 13.146053 , 13.281122 , 12.352292 , 12.150031 ,\n",
       "        17.822906 , 15.03369  ,  7.748211 ,  5.567576 ,  7.8255386,\n",
       "        10.001554 , 12.984448 , 17.396599 , 18.808813 , 20.908554 ,\n",
       "        17.448837 , 16.937475 , 13.97959  , 14.07631  , 16.636963 ,\n",
       "        18.403399 , 20.37845  , 11.728261 , 10.17481  , 18.220787 ,\n",
       "        23.267982 , 22.944391 , 20.126348 , 18.8599   , 19.397001 ,\n",
       "        16.881052 , 13.272287 , 16.355106 , 22.541264 , 21.951479 ,\n",
       "        14.141115 ,  7.0791335,  7.6805344,  7.18645  ,  8.593027 ,\n",
       "         8.835614 ,  7.614084 , 10.452093 , 15.227209 , 20.058098 ,\n",
       "        22.581078 , 25.821535 , 26.15133  , 24.79426  , 15.209618 ,\n",
       "        13.046016 , 10.215008 , 14.227189 , 12.03105  , 13.762416 ,\n",
       "        11.787195 , 13.298939 , 17.635078 , 18.25389  , 15.286204 ,\n",
       "        18.422619 , 20.842838 , 24.351297 , 28.015295 , 22.45701  ,\n",
       "        14.564498 , 10.644784 , 11.694139 , 12.77562  , 16.120539 ,\n",
       "        15.9292965, 15.515288 , 13.342035 ,  9.67878  ,  9.446263 ,\n",
       "         9.98219  , 12.618421 , 14.078608 , 19.700808 , 24.025846 ,\n",
       "        26.324724 , 18.39699  , 17.199833 , 13.9780445,  6.79396  ,\n",
       "         7.8334618, 10.376328 , 16.304453 , 21.05988  , 18.887438 ,\n",
       "        20.694204 , 21.058928 , 16.22174  , 11.096315 , 14.904808 ,\n",
       "        16.577442 , 21.686565 , 22.599068 , 18.788322 , 16.980688 ,\n",
       "        16.0115   , 11.833663 ,  7.938034 ,  8.3892   ,  9.457674 ,\n",
       "         7.565673 ,  8.888217 ,  6.906261 ,  6.7431784,  8.0111885,\n",
       "         9.80939  , 13.10495  , 15.841067 , 22.407501 , 14.840108 ,\n",
       "        14.437892 , 11.705842 , 10.91839  ,  8.663057 ,  7.7527385,\n",
       "         6.8851933,  5.8297496,  7.1619163,  7.7573595,  6.751716 ,\n",
       "         7.3548884,  9.239114 ,  4.8694587,  4.1530848,  5.4363275,\n",
       "         5.4283466,  5.187374 ,  5.0768147,  7.2863436,  9.995094 ,\n",
       "         9.338437 ,  9.23323  ,  7.2902207,  9.2513685,  9.911895 ,\n",
       "        12.584722 , 13.62706  , 13.077074 , 12.990525 , 10.686749 ,\n",
       "         8.384258 ,  7.0076394,  6.255277 ,  6.291065 ,  9.319026 ,\n",
       "         9.24548  ,  6.0547357,  4.450127 ,  4.7839284,  7.5582314,\n",
       "         6.8253784,  8.107911 ,  8.1301   ,  6.4655957,  4.8857055,\n",
       "         4.774216 ,  6.3945494,  7.428964 ,  7.54888  ,  9.574216 ,\n",
       "         8.800763 ,  6.3465176,  5.2220607,  4.708217 ,  3.9293773,\n",
       "         5.179622 ,  4.9890833,  2.2759035,  5.219506 ,  4.575717 ,\n",
       "         5.2766795,  5.06362  ,  4.603395 ,  5.5232334,  5.5276012,\n",
       "         3.9721415,  6.7273116,  7.2939315,  7.5944047,  9.5292   ,\n",
       "        10.639967 , 10.357071 , 10.54499  ,  7.0493827,  7.5575128,\n",
       "         7.996163 ,  7.34712  ,  8.954936 , 10.138937 ,  8.545285 ,\n",
       "         9.835191 , 12.739417 , 12.346658 ,  9.948853 ,  8.933425 ,\n",
       "         9.072394 , 11.188484 ,  6.7161784,  4.0817943,  2.1600318,\n",
       "         2.8228784,  5.654202 ,  8.081352 ,  8.102574 ], dtype=float32),\n",
       " 'mape': array([32.67636  , 33.19275  , 30.400372 , 19.913347 , 14.871252 ,\n",
       "        17.390581 , 14.050947 , 20.908602 , 20.914919 , 20.729958 ,\n",
       "        26.957455 , 30.322153 , 31.669537 , 34.85744  , 44.433647 ,\n",
       "        36.66628  , 23.959223 , 12.161456 , 20.489313 , 27.54461  ,\n",
       "        27.868362 , 25.613678 , 18.280956 , 15.223685 , 17.176542 ,\n",
       "        19.807568 , 25.080162 , 20.116453 , 25.575272 , 35.064087 ,\n",
       "        38.91857  , 51.38325  , 48.026546 , 55.95202  , 68.62999  ,\n",
       "        36.755295 , 35.789585 , 35.33254  , 36.4729   , 39.591846 ,\n",
       "        40.616726 , 37.77145  , 39.64021  , 37.684338 , 29.909191 ,\n",
       "        50.572376 , 45.662865 , 45.4948   , 34.112663 , 40.61776  ,\n",
       "        51.99339  , 53.31632  , 41.012157 , 18.199976 , 10.567927 ,\n",
       "        12.097497 , 11.7195015, 10.415232 , 10.636137 , 10.178191 ,\n",
       "        19.986427 , 14.87619  , 14.69468  , 12.420345 , 14.223881 ,\n",
       "        20.924377 , 17.206884 ,  8.199404 ,  6.249503 ,  8.137712 ,\n",
       "        11.679979 , 15.951279 , 22.183075 , 27.348658 , 33.990772 ,\n",
       "        26.787039 , 26.876724 , 21.404665 , 20.523378 , 22.326227 ,\n",
       "        20.492538 , 22.057508 , 13.462631 , 13.557493 , 32.733242 ,\n",
       "        46.452713 , 46.704605 , 40.405487 , 38.67731  , 40.065613 ,\n",
       "        34.96191  , 18.132278 , 18.317072 , 28.510698 , 28.356283 ,\n",
       "        17.348835 ,  7.6147666,  9.433361 ,  9.032796 , 11.046149 ,\n",
       "        11.763901 , 10.92875  , 15.567224 , 24.026459 , 38.43896  ,\n",
       "        50.133884 , 57.90507  , 57.93848  , 55.19944  , 32.62022  ,\n",
       "        28.842813 , 19.423832 , 18.906757 , 19.39684  , 23.13912  ,\n",
       "        16.144327 , 19.693872 , 20.68651  , 25.795576 , 30.044508 ,\n",
       "        40.741875 , 50.346725 , 62.62024  , 75.39233  , 62.38412  ,\n",
       "        37.715755 , 24.720385 , 21.417683 , 18.603321 , 24.928167 ,\n",
       "        25.892635 , 23.587748 , 18.86646  , 12.974207 , 14.276798 ,\n",
       "        17.288893 , 24.52413  , 32.94006  , 49.731644 , 66.29116  ,\n",
       "        77.88235  , 52.934162 , 49.518967 , 40.698616 , 17.37697  ,\n",
       "        15.772547 , 15.554665 , 17.891836 , 25.224442 , 24.46175  ,\n",
       "        29.001135 , 31.182962 , 21.973833 , 14.319818 , 27.390217 ,\n",
       "        36.481613 , 56.37008  , 63.594086 , 52.12961  , 45.36293  ,\n",
       "        46.084015 , 33.679916 , 16.801245 , 13.528583 , 14.885369 ,\n",
       "        12.771328 , 18.080828 , 12.335127 , 12.453711 , 16.440552 ,\n",
       "        23.106312 , 35.12021  , 46.67758  , 69.85642  , 45.45452  ,\n",
       "        45.86167  , 37.503757 , 36.42762  , 24.766884 , 24.249681 ,\n",
       "        21.0319   , 15.066807 , 21.561478 , 23.541107 , 18.637205 ,\n",
       "        15.277717 , 18.571665 , 13.874741 , 11.41415  , 14.662287 ,\n",
       "        15.133758 , 13.858069 ,  9.343043 , 13.84364  , 18.98936  ,\n",
       "        17.443392 , 18.94321  , 14.272192 , 17.250244 , 29.003653 ,\n",
       "        44.53508  , 50.33593  , 53.152554 , 55.3737   , 42.983013 ,\n",
       "        32.390697 , 24.21686  , 19.926369 , 19.13559  , 24.250963 ,\n",
       "        25.539572 , 14.163806 ,  9.973936 , 13.367003 , 23.936598 ,\n",
       "        22.091242 , 27.539778 , 28.914446 , 21.463215 , 16.891361 ,\n",
       "        14.174652 , 22.572466 , 30.068832 , 31.90468  , 42.327686 ,\n",
       "        38.58726  , 25.919422 , 20.653755 , 11.992533 , 10.865131 ,\n",
       "        16.307835 , 13.838217 ,  6.364433 , 10.733719 ,  9.332599 ,\n",
       "        11.459879 , 12.081737 ,  9.874504 , 12.523416 , 13.766697 ,\n",
       "        13.046665 , 17.569748 , 14.466633 , 17.000809 , 23.702135 ,\n",
       "        24.22647  , 21.710938 , 24.404612 , 12.995977 , 13.664037 ,\n",
       "        15.757383 , 20.549492 , 31.655588 , 39.55053  , 32.228344 ,\n",
       "        42.719025 , 66.033516 , 68.87867  , 56.733353 , 50.094013 ,\n",
       "        52.919323 , 66.37554  , 38.65612  , 19.296097 ,  9.154877 ,\n",
       "        13.663883 , 31.429455 , 53.42775  , 53.844635 ], dtype=float32),\n",
       " 'mase': 1.6606493}"
      ]
     },
     "execution_count": 52,
     "metadata": {},
     "output_type": "execute_result"
    }
   ],
   "source": [
    "# The predictions are going to be 7 steps at a time (this is the HORIZON size)\n",
    "model_3_preds = make_preds(model_3,\n",
    "                           input_data=test_windows)\n",
    "\n",
    "# Evaluate results for model 3 predictions\n",
    "model_3_results = evaluate_preds(y_true=tf.squeeze(test_labels), # remove 1 dimension of test labels\n",
    "                                 y_pred=model_3_preds)\n",
    "model_3_results"
   ]
  },
  {
   "cell_type": "markdown",
   "metadata": {},
   "source": [
    "adjust the values since we are predicting for 7 days---and is multidimensional"
   ]
  },
  {
   "cell_type": "code",
   "execution_count": 53,
   "metadata": {},
   "outputs": [],
   "source": [
    "def evaluate_preds(y_true, y_pred):\n",
    "  # Make sure float32 (for metric calculations)\n",
    "    y_true = tf.cast(y_true, dtype=tf.float32)\n",
    "    y_pred = tf.cast(y_pred, dtype=tf.float32)\n",
    "\n",
    "  # Calculate various metrics\n",
    "    mae = tf.keras.metrics.mean_absolute_error(y_true, y_pred)\n",
    "    mse = tf.keras.metrics.mean_squared_error(y_true, y_pred)\n",
    "    rmse = tf.sqrt(mse)\n",
    "    mape = tf.keras.metrics.mean_absolute_percentage_error(y_true, y_pred)\n",
    "    mase = mean_absolute_scaled_error(y_true, y_pred)\n",
    "\n",
    "  # Account for different sized metrics (for longer horizons, reduce to single number)\n",
    "    if mae.ndim > 0: # if mae isn't already a scalar, reduce it to one by aggregating tensors to mean\n",
    "        mae = tf.reduce_mean(mae)\n",
    "        mse = tf.reduce_mean(mse)\n",
    "        rmse = tf.reduce_mean(rmse)\n",
    "        mape = tf.reduce_mean(mape)\n",
    "        mase = tf.reduce_mean(mase)\n",
    "\n",
    "    return {\"mae\": mae.numpy(),\n",
    "          \"mse\": mse.numpy(),\n",
    "          \"rmse\": rmse.numpy(),\n",
    "          \"mape\": mape.numpy(),\n",
    "          \"mase\": mase.numpy()}"
   ]
  },
  {
   "cell_type": "code",
   "execution_count": 54,
   "metadata": {},
   "outputs": [
    {
     "data": {
      "text/plain": [
       "{'mae': 10.667227,\n",
       " 'mse': 190.35005,\n",
       " 'rmse': 12.256159,\n",
       " 'mape': 27.85278,\n",
       " 'mase': 1.6606493}"
      ]
     },
     "execution_count": 54,
     "metadata": {},
     "output_type": "execute_result"
    }
   ],
   "source": [
    "# Get model_3 results aggregated to single values\n",
    "model_3_results = evaluate_preds(y_true=tf.squeeze(test_labels),\n",
    "                                 y_pred=model_3_preds)\n",
    "model_3_results"
   ]
  },
  {
   "cell_type": "markdown",
   "metadata": {},
   "source": [
    "Our best model"
   ]
  },
  {
   "cell_type": "code",
   "execution_count": 55,
   "metadata": {},
   "outputs": [
    {
     "data": {
      "image/png": "[encoded data removed]",
      "text/plain": [
       "<Figure size 720x504 with 1 Axes>"
      ]
     },
     "metadata": {
      "needs_background": "light"
     },
     "output_type": "display_data"
    }
   ],
   "source": [
    "pd.DataFrame({\"naive\": naive_results[\"mae\"], \n",
    "              \"horizon_1_window_7\": model_1_results[\"mae\"], \n",
    "              \"horizon_1_window_30\": model_2_results[\"mae\"], \n",
    "              \"horizon_7_window_30\": model_3_results[\"mae\"]}, index=[\"mae\"]).plot(figsize=(10, 7), kind=\"bar\");"
   ]
  },
  {
   "cell_type": "markdown",
   "metadata": {},
   "source": [
    "#### From next on, we use Horizon = 1 and Window = 7"
   ]
  },
  {
   "cell_type": "markdown",
   "metadata": {},
   "source": [
    "## Model 4: Conv1D"
   ]
  },
  {
   "cell_type": "code",
   "execution_count": 56,
   "metadata": {},
   "outputs": [],
   "source": [
    "HORIZON = 1 # predict next day\n",
    "WINDOW_SIZE = 7 # use previous week worth of data"
   ]
  },
  {
   "cell_type": "code",
   "execution_count": 57,
   "metadata": {},
   "outputs": [
    {
     "data": {
      "text/plain": [
       "(1372, 1372)"
      ]
     },
     "execution_count": 57,
     "metadata": {},
     "output_type": "execute_result"
    }
   ],
   "source": [
    "# Create windowed dataset\n",
    "full_windows, full_labels = make_windows(prices, window_size=WINDOW_SIZE, horizon=HORIZON)\n",
    "len(full_windows), len(full_labels)"
   ]
  },
  {
   "cell_type": "code",
   "execution_count": 58,
   "metadata": {},
   "outputs": [
    {
     "data": {
      "text/plain": [
       "(1097, 275, 1097, 275)"
      ]
     },
     "execution_count": 58,
     "metadata": {},
     "output_type": "execute_result"
    }
   ],
   "source": [
    "# Create train/test splits\n",
    "train_windows, test_windows, train_labels, test_labels = make_train_test_splits(full_windows, full_labels)\n",
    "len(train_windows), len(test_windows), len(train_labels), len(test_labels)"
   ]
  },
  {
   "cell_type": "code",
   "execution_count": 59,
   "metadata": {},
   "outputs": [
    {
     "name": "stdout",
     "output_type": "stream",
     "text": [
      "Original shape: (7,)\n",
      "Expanded shape: (7, 1)\n",
      "Original values with expanded shape:\n",
      " [[10.46]\n",
      " [ 6.31]\n",
      " [10.4 ]\n",
      " [23.  ]\n",
      " [15.46]\n",
      " [28.28]\n",
      " [37.15]]\n"
     ]
    }
   ],
   "source": [
    "# Before we pass our data to the Conv1D layer, we have to reshape it in order to make sure it works\n",
    "tf.keras.backend.set_floatx('float64')\n",
    "x = tf.constant(train_windows[0])\n",
    "expand_dims_layer = layers.Lambda(lambda x: tf.expand_dims(x, axis=1)) # add an extra dimension for timesteps\n",
    "print(f\"Original shape: {x.shape}\") # (WINDOW_SIZE)\n",
    "print(f\"Expanded shape: {expand_dims_layer(x).shape}\") # (WINDOW_SIZE, input_dim) \n",
    "print(f\"Original values with expanded shape:\\n {expand_dims_layer(x)}\")"
   ]
  },
  {
   "cell_type": "code",
   "execution_count": 60,
   "metadata": {
    "scrolled": true
   },
   "outputs": [
    {
     "name": "stdout",
     "output_type": "stream",
     "text": [
      "INFO:tensorflow:Assets written to: model_experiments\\model_4_conv1D\\assets\n",
      "INFO:tensorflow:Assets written to: model_experiments\\model_4_conv1D\\assets\n",
      "INFO:tensorflow:Assets written to: model_experiments\\model_4_conv1D\\assets\n",
      "INFO:tensorflow:Assets written to: model_experiments\\model_4_conv1D\\assets\n",
      "INFO:tensorflow:Assets written to: model_experiments\\model_4_conv1D\\assets\n",
      "INFO:tensorflow:Assets written to: model_experiments\\model_4_conv1D\\assets\n",
      "INFO:tensorflow:Assets written to: model_experiments\\model_4_conv1D\\assets\n",
      "INFO:tensorflow:Assets written to: model_experiments\\model_4_conv1D\\assets\n",
      "INFO:tensorflow:Assets written to: model_experiments\\model_4_conv1D\\assets\n",
      "INFO:tensorflow:Assets written to: model_experiments\\model_4_conv1D\\assets\n",
      "INFO:tensorflow:Assets written to: model_experiments\\model_4_conv1D\\assets\n",
      "INFO:tensorflow:Assets written to: model_experiments\\model_4_conv1D\\assets\n",
      "INFO:tensorflow:Assets written to: model_experiments\\model_4_conv1D\\assets\n",
      "INFO:tensorflow:Assets written to: model_experiments\\model_4_conv1D\\assets\n",
      "INFO:tensorflow:Assets written to: model_experiments\\model_4_conv1D\\assets\n",
      "INFO:tensorflow:Assets written to: model_experiments\\model_4_conv1D\\assets\n",
      "INFO:tensorflow:Assets written to: model_experiments\\model_4_conv1D\\assets\n",
      "INFO:tensorflow:Assets written to: model_experiments\\model_4_conv1D\\assets\n",
      "INFO:tensorflow:Assets written to: model_experiments\\model_4_conv1D\\assets\n",
      "INFO:tensorflow:Assets written to: model_experiments\\model_4_conv1D\\assets\n",
      "INFO:tensorflow:Assets written to: model_experiments\\model_4_conv1D\\assets\n",
      "INFO:tensorflow:Assets written to: model_experiments\\model_4_conv1D\\assets\n",
      "INFO:tensorflow:Assets written to: model_experiments\\model_4_conv1D\\assets\n",
      "INFO:tensorflow:Assets written to: model_experiments\\model_4_conv1D\\assets\n",
      "INFO:tensorflow:Assets written to: model_experiments\\model_4_conv1D\\assets\n",
      "INFO:tensorflow:Assets written to: model_experiments\\model_4_conv1D\\assets\n",
      "INFO:tensorflow:Assets written to: model_experiments\\model_4_conv1D\\assets\n",
      "INFO:tensorflow:Assets written to: model_experiments\\model_4_conv1D\\assets\n",
      "INFO:tensorflow:Assets written to: model_experiments\\model_4_conv1D\\assets\n",
      "INFO:tensorflow:Assets written to: model_experiments\\model_4_conv1D\\assets\n",
      "INFO:tensorflow:Assets written to: model_experiments\\model_4_conv1D\\assets\n",
      "INFO:tensorflow:Assets written to: model_experiments\\model_4_conv1D\\assets\n",
      "INFO:tensorflow:Assets written to: model_experiments\\model_4_conv1D\\assets\n",
      "INFO:tensorflow:Assets written to: model_experiments\\model_4_conv1D\\assets\n",
      "INFO:tensorflow:Assets written to: model_experiments\\model_4_conv1D\\assets\n",
      "INFO:tensorflow:Assets written to: model_experiments\\model_4_conv1D\\assets\n",
      "INFO:tensorflow:Assets written to: model_experiments\\model_4_conv1D\\assets\n",
      "INFO:tensorflow:Assets written to: model_experiments\\model_4_conv1D\\assets\n",
      "INFO:tensorflow:Assets written to: model_experiments\\model_4_conv1D\\assets\n",
      "INFO:tensorflow:Assets written to: model_experiments\\model_4_conv1D\\assets\n",
      "INFO:tensorflow:Assets written to: model_experiments\\model_4_conv1D\\assets\n",
      "INFO:tensorflow:Assets written to: model_experiments\\model_4_conv1D\\assets\n",
      "INFO:tensorflow:Assets written to: model_experiments\\model_4_conv1D\\assets\n"
     ]
    },
    {
     "data": {
      "text/plain": [
       "<tensorflow.python.keras.callbacks.History at 0x29c6d86aee0>"
      ]
     },
     "execution_count": 60,
     "metadata": {},
     "output_type": "execute_result"
    }
   ],
   "source": [
    "# Create model\n",
    "model_4 = tf.keras.Sequential([\n",
    "  # Create Lambda layer to reshape inputs, without this layer, the model will error\n",
    "  layers.Lambda(lambda x: tf.expand_dims(x, axis=1)), # resize the inputs to adjust for window size / Conv1D 3D input requirements\n",
    "  layers.Conv1D(filters=128, kernel_size=5, padding=\"causal\", activation=\"relu\"),\n",
    "  layers.Dense(HORIZON)\n",
    "], name=\"model_4_conv1D\")\n",
    "\n",
    "# Compile model\n",
    "model_4.compile(loss=\"mae\",\n",
    "                optimizer=tf.keras.optimizers.Adam())\n",
    "\n",
    "# Fit model\n",
    "model_4.fit(train_windows,\n",
    "            train_labels,\n",
    "            batch_size=128, \n",
    "            epochs=100,\n",
    "            verbose=0,\n",
    "            validation_data=(test_windows, test_labels),\n",
    "            callbacks=[create_model_checkpoint(model_name=model_4.name)])"
   ]
  },
  {
   "cell_type": "code",
   "execution_count": 61,
   "metadata": {},
   "outputs": [
    {
     "name": "stdout",
     "output_type": "stream",
     "text": [
      "Model: \"model_4_conv1D\"\n",
      "_________________________________________________________________\n",
      "Layer (type)                 Output Shape              Param #   \n",
      "=================================================================\n",
      "lambda_1 (Lambda)            (None, 1, 7)              0         \n",
      "_________________________________________________________________\n",
      "conv1d (Conv1D)              (None, 1, 128)            4608      \n",
      "_________________________________________________________________\n",
      "dense_6 (Dense)              (None, 1, 1)              129       \n",
      "=================================================================\n",
      "Total params: 4,737\n",
      "Trainable params: 4,737\n",
      "Non-trainable params: 0\n",
      "_________________________________________________________________\n"
     ]
    }
   ],
   "source": [
    "model_4.summary()"
   ]
  },
  {
   "cell_type": "code",
   "execution_count": 62,
   "metadata": {},
   "outputs": [
    {
     "name": "stdout",
     "output_type": "stream",
     "text": [
      "9/9 [==============================] - 0s 2ms/step - loss: 6.2862\n"
     ]
    },
    {
     "data": {
      "text/plain": [
       "6.286226969632235"
      ]
     },
     "execution_count": 62,
     "metadata": {},
     "output_type": "execute_result"
    }
   ],
   "source": [
    "# Load in best performing Conv1D model and evaluate it on the test data\n",
    "model_4 = tf.keras.models.load_model(\"model_experiments/model_4_conv1D\")\n",
    "model_4.evaluate(test_windows, test_labels)"
   ]
  },
  {
   "cell_type": "code",
   "execution_count": 63,
   "metadata": {},
   "outputs": [
    {
     "data": {
      "text/plain": [
       "{'mae': 6.2862267,\n",
       " 'mse': 72.642685,\n",
       " 'rmse': 8.523067,\n",
       " 'mape': 16.505362,\n",
       " 'mase': 0.9893087}"
      ]
     },
     "execution_count": 63,
     "metadata": {},
     "output_type": "execute_result"
    }
   ],
   "source": [
    "# Make predictions\n",
    "model_4_preds = make_preds(model_4, test_windows)\n",
    "\n",
    "# Evaluate predictions\n",
    "model_4_results = evaluate_preds(y_true=tf.squeeze(test_labels),\n",
    "                                 y_pred=model_4_preds)\n",
    "model_4_results"
   ]
  },
  {
   "cell_type": "markdown",
   "metadata": {},
   "source": [
    "looks good"
   ]
  },
  {
   "cell_type": "markdown",
   "metadata": {},
   "source": [
    "## Model 5: RNN (LSTM)"
   ]
  },
  {
   "cell_type": "code",
   "execution_count": 65,
   "metadata": {},
   "outputs": [
    {
     "name": "stdout",
     "output_type": "stream",
     "text": [
      "Epoch 1/100\n",
      "8/9 [=========================>....] - ETA: 0s - loss: 38.2474INFO:tensorflow:Assets written to: model_experiments\\model_5_lstm\\assets\n",
      "9/9 [==============================] - 6s 676ms/step - loss: 38.1406 - val_loss: 32.3930\n",
      "Epoch 2/100\n",
      "1/9 [==>...........................] - ETA: 0s - loss: 31.1814INFO:tensorflow:Assets written to: model_experiments\\model_5_lstm\\assets\n",
      "9/9 [==============================] - 6s 669ms/step - loss: 26.1522 - val_loss: 16.8655\n",
      "Epoch 3/100\n",
      "1/9 [==>...........................] - ETA: 0s - loss: 17.8111INFO:tensorflow:Assets written to: model_experiments\\model_5_lstm\\assets\n",
      "9/9 [==============================] - 5s 580ms/step - loss: 11.0375 - val_loss: 10.2596\n",
      "Epoch 4/100\n",
      "1/9 [==>...........................] - ETA: 0s - loss: 9.9230INFO:tensorflow:Assets written to: model_experiments\\model_5_lstm\\assets\n",
      "9/9 [==============================] - 5s 540ms/step - loss: 9.3495 - val_loss: 9.7477\n",
      "Epoch 5/100\n",
      "8/9 [=========================>....] - ETA: 0s - loss: 7.6147INFO:tensorflow:Assets written to: model_experiments\\model_5_lstm\\assets\n",
      "9/9 [==============================] - 7s 757ms/step - loss: 7.6118 - val_loss: 9.2886\n",
      "Epoch 6/100\n",
      "1/9 [==>...........................] - ETA: 0s - loss: 7.7645INFO:tensorflow:Assets written to: model_experiments\\model_5_lstm\\assets\n",
      "9/9 [==============================] - 7s 811ms/step - loss: 7.3354 - val_loss: 8.3708\n",
      "Epoch 7/100\n",
      "1/9 [==>...........................] - ETA: 0s - loss: 7.3059INFO:tensorflow:Assets written to: model_experiments\\model_5_lstm\\assets\n",
      "9/9 [==============================] - 7s 767ms/step - loss: 6.9469 - val_loss: 8.0092\n",
      "Epoch 8/100\n",
      "1/9 [==>...........................] - ETA: 0s - loss: 7.3679INFO:tensorflow:Assets written to: model_experiments\\model_5_lstm\\assets\n",
      "9/9 [==============================] - 6s 649ms/step - loss: 6.7013 - val_loss: 7.5330\n",
      "Epoch 9/100\n",
      "1/9 [==>...........................] - ETA: 0s - loss: 6.7737INFO:tensorflow:Assets written to: model_experiments\\model_5_lstm\\assets\n",
      "9/9 [==============================] - 8s 897ms/step - loss: 6.5388 - val_loss: 7.2012\n",
      "Epoch 10/100\n",
      "9/9 [==============================] - 0s 6ms/step - loss: 6.5819 - val_loss: 7.4359\n",
      "Epoch 11/100\n",
      "1/9 [==>...........................] - ETA: 0s - loss: 8.0049INFO:tensorflow:Assets written to: model_experiments\\model_5_lstm\\assets\n",
      "9/9 [==============================] - 4s 415ms/step - loss: 6.3486 - val_loss: 7.1108\n",
      "Epoch 12/100\n",
      "1/9 [==>...........................] - ETA: 0s - loss: 6.6499INFO:tensorflow:Assets written to: model_experiments\\model_5_lstm\\assets\n",
      "9/9 [==============================] - 4s 474ms/step - loss: 6.3821 - val_loss: 7.0268\n",
      "Epoch 13/100\n",
      "1/9 [==>...........................] - ETA: 0s - loss: 6.1208INFO:tensorflow:Assets written to: model_experiments\\model_5_lstm\\assets\n",
      "9/9 [==============================] - 4s 448ms/step - loss: 6.2389 - val_loss: 6.8419\n",
      "Epoch 14/100\n",
      "1/9 [==>...........................] - ETA: 0s - loss: 5.5198INFO:tensorflow:Assets written to: model_experiments\\model_5_lstm\\assets\n",
      "9/9 [==============================] - 5s 545ms/step - loss: 6.0998 - val_loss: 6.7161\n",
      "Epoch 15/100\n",
      "9/9 [==============================] - 0s 4ms/step - loss: 6.0750 - val_loss: 6.8573\n",
      "Epoch 16/100\n",
      "1/9 [==>...........................] - ETA: 0s - loss: 6.1778INFO:tensorflow:Assets written to: model_experiments\\model_5_lstm\\assets\n",
      "9/9 [==============================] - 5s 536ms/step - loss: 6.0465 - val_loss: 6.6537\n",
      "Epoch 17/100\n",
      "1/9 [==>...........................] - ETA: 0s - loss: 6.2203INFO:tensorflow:Assets written to: model_experiments\\model_5_lstm\\assets\n",
      "9/9 [==============================] - 5s 550ms/step - loss: 5.9971 - val_loss: 6.6498\n",
      "Epoch 18/100\n",
      "9/9 [==============================] - 0s 13ms/step - loss: 5.9948 - val_loss: 6.7574\n",
      "Epoch 19/100\n",
      "1/9 [==>...........................] - ETA: 0s - loss: 6.4562INFO:tensorflow:Assets written to: model_experiments\\model_5_lstm\\assets\n",
      "9/9 [==============================] - 7s 774ms/step - loss: 5.9497 - val_loss: 6.5833\n",
      "Epoch 20/100\n",
      "1/9 [==>...........................] - ETA: 0s - loss: 4.5169INFO:tensorflow:Assets written to: model_experiments\\model_5_lstm\\assets\n",
      "9/9 [==============================] - 7s 791ms/step - loss: 5.8906 - val_loss: 6.5527\n",
      "Epoch 21/100\n",
      "8/9 [=========================>....] - ETA: 0s - loss: 5.8939INFO:tensorflow:Assets written to: model_experiments\\model_5_lstm\\assets\n",
      "9/9 [==============================] - 7s 801ms/step - loss: 5.8717 - val_loss: 6.4882\n",
      "Epoch 22/100\n",
      "9/9 [==============================] - 0s 5ms/step - loss: 5.9431 - val_loss: 6.8752\n",
      "Epoch 23/100\n",
      "9/9 [==============================] - 0s 8ms/step - loss: 6.1200 - val_loss: 6.5335\n",
      "Epoch 24/100\n",
      "9/9 [==============================] - 0s 6ms/step - loss: 5.9055 - val_loss: 6.5804\n",
      "Epoch 25/100\n",
      "1/9 [==>...........................] - ETA: 0s - loss: 5.0165INFO:tensorflow:Assets written to: model_experiments\\model_5_lstm\\assets\n",
      "9/9 [==============================] - 6s 716ms/step - loss: 5.8497 - val_loss: 6.4413\n",
      "Epoch 26/100\n",
      "9/9 [==============================] - 0s 7ms/step - loss: 5.8345 - val_loss: 6.4858\n",
      "Epoch 27/100\n",
      "9/9 [==============================] - 0s 7ms/step - loss: 5.8229 - val_loss: 6.5268\n",
      "Epoch 28/100\n",
      "1/9 [==>...........................] - ETA: 0s - loss: 4.9807INFO:tensorflow:Assets written to: model_experiments\\model_5_lstm\\assets\n",
      "9/9 [==============================] - 6s 644ms/step - loss: 5.7612 - val_loss: 6.4385\n",
      "Epoch 29/100\n",
      "1/9 [==>...........................] - ETA: 0s - loss: 5.8736INFO:tensorflow:Assets written to: model_experiments\\model_5_lstm\\assets\n",
      "9/9 [==============================] - 6s 645ms/step - loss: 5.7466 - val_loss: 6.4066\n",
      "Epoch 30/100\n",
      "9/9 [==============================] - 0s 7ms/step - loss: 5.7166 - val_loss: 6.4738\n",
      "Epoch 31/100\n",
      "9/9 [==============================] - 0s 7ms/step - loss: 5.7047 - val_loss: 6.4219\n",
      "Epoch 32/100\n",
      "7/9 [======================>.......] - ETA: 0s - loss: 5.7579INFO:tensorflow:Assets written to: model_experiments\\model_5_lstm\\assets\n",
      "9/9 [==============================] - 6s 655ms/step - loss: 5.7090 - val_loss: 6.3920\n",
      "Epoch 33/100\n",
      "9/9 [==============================] - 0s 9ms/step - loss: 5.6741 - val_loss: 6.4801\n",
      "Epoch 34/100\n",
      "9/9 [==============================] - ETA: 0s - loss: 5.6786INFO:tensorflow:Assets written to: model_experiments\\model_5_lstm\\assets\n",
      "9/9 [==============================] - 5s 595ms/step - loss: 5.6786 - val_loss: 6.3672\n",
      "Epoch 35/100\n",
      "9/9 [==============================] - 0s 7ms/step - loss: 5.6743 - val_loss: 6.4403\n",
      "Epoch 36/100\n",
      "9/9 [==============================] - 0s 7ms/step - loss: 5.6777 - val_loss: 6.4641\n",
      "Epoch 37/100\n",
      "9/9 [==============================] - 0s 8ms/step - loss: 5.6735 - val_loss: 6.4139\n",
      "Epoch 38/100\n",
      "1/9 [==>...........................] - ETA: 0s - loss: 5.9620INFO:tensorflow:Assets written to: model_experiments\\model_5_lstm\\assets\n",
      "9/9 [==============================] - 6s 611ms/step - loss: 5.6257 - val_loss: 6.2929\n",
      "Epoch 39/100\n",
      "9/9 [==============================] - 0s 6ms/step - loss: 5.6063 - val_loss: 6.4213\n",
      "Epoch 40/100\n",
      "9/9 [==============================] - 0s 8ms/step - loss: 5.6453 - val_loss: 6.3651\n",
      "Epoch 41/100\n",
      "9/9 [==============================] - 0s 6ms/step - loss: 5.6068 - val_loss: 6.4133\n",
      "Epoch 42/100\n",
      "9/9 [==============================] - 0s 7ms/step - loss: 5.6265 - val_loss: 6.4244\n",
      "Epoch 43/100\n",
      "9/9 [==============================] - 0s 7ms/step - loss: 5.6067 - val_loss: 6.3346\n",
      "Epoch 44/100\n",
      "9/9 [==============================] - 0s 6ms/step - loss: 5.6047 - val_loss: 6.4220\n",
      "Epoch 45/100\n",
      "9/9 [==============================] - 0s 5ms/step - loss: 5.5700 - val_loss: 6.3949\n",
      "Epoch 46/100\n",
      "9/9 [==============================] - 0s 7ms/step - loss: 5.5798 - val_loss: 6.4373\n",
      "Epoch 47/100\n",
      "9/9 [==============================] - 0s 8ms/step - loss: 5.5775 - val_loss: 6.4092\n",
      "Epoch 48/100\n",
      "9/9 [==============================] - 0s 8ms/step - loss: 5.5900 - val_loss: 6.3461\n",
      "Epoch 49/100\n",
      "9/9 [==============================] - 0s 8ms/step - loss: 5.5515 - val_loss: 6.4628\n",
      "Epoch 50/100\n",
      "9/9 [==============================] - 0s 8ms/step - loss: 5.6034 - val_loss: 6.3337\n",
      "Epoch 51/100\n",
      "9/9 [==============================] - 0s 8ms/step - loss: 5.6136 - val_loss: 6.5134\n",
      "Epoch 52/100\n",
      "9/9 [==============================] - 0s 8ms/step - loss: 5.6137 - val_loss: 6.4155\n",
      "Epoch 53/100\n",
      "9/9 [==============================] - 0s 8ms/step - loss: 5.5734 - val_loss: 6.4101\n",
      "Epoch 54/100\n",
      "9/9 [==============================] - 0s 8ms/step - loss: 5.5112 - val_loss: 6.4518\n",
      "Epoch 55/100\n",
      "9/9 [==============================] - 0s 8ms/step - loss: 5.4978 - val_loss: 6.4842\n",
      "Epoch 56/100\n",
      "9/9 [==============================] - 0s 8ms/step - loss: 5.5417 - val_loss: 6.4658\n",
      "Epoch 57/100\n",
      "9/9 [==============================] - 0s 7ms/step - loss: 5.4936 - val_loss: 6.4573\n",
      "Epoch 58/100\n",
      "9/9 [==============================] - 0s 8ms/step - loss: 5.5456 - val_loss: 6.6568\n",
      "Epoch 59/100\n",
      "9/9 [==============================] - 0s 8ms/step - loss: 5.5992 - val_loss: 6.5687\n",
      "Epoch 60/100\n",
      "9/9 [==============================] - 0s 6ms/step - loss: 5.5288 - val_loss: 6.4738\n",
      "Epoch 61/100\n",
      "9/9 [==============================] - 0s 9ms/step - loss: 5.5539 - val_loss: 6.6139\n",
      "Epoch 62/100\n",
      "9/9 [==============================] - 0s 7ms/step - loss: 5.5478 - val_loss: 6.5985\n",
      "Epoch 63/100\n",
      "9/9 [==============================] - 0s 8ms/step - loss: 5.5131 - val_loss: 6.4715\n",
      "Epoch 64/100\n",
      "9/9 [==============================] - 0s 8ms/step - loss: 5.4929 - val_loss: 6.4884\n",
      "Epoch 65/100\n",
      "9/9 [==============================] - 0s 7ms/step - loss: 5.4854 - val_loss: 6.4357\n",
      "Epoch 66/100\n",
      "9/9 [==============================] - 0s 8ms/step - loss: 5.4848 - val_loss: 6.4786\n",
      "Epoch 67/100\n",
      "9/9 [==============================] - 0s 8ms/step - loss: 5.5486 - val_loss: 6.5083\n",
      "Epoch 68/100\n",
      "9/9 [==============================] - 0s 7ms/step - loss: 5.5039 - val_loss: 6.4343\n",
      "Epoch 69/100\n",
      "9/9 [==============================] - 0s 5ms/step - loss: 5.4653 - val_loss: 6.4267\n",
      "Epoch 70/100\n",
      "9/9 [==============================] - 0s 8ms/step - loss: 5.5146 - val_loss: 6.4675\n",
      "Epoch 71/100\n",
      "9/9 [==============================] - 0s 8ms/step - loss: 5.4581 - val_loss: 6.8089\n",
      "Epoch 72/100\n",
      "9/9 [==============================] - 0s 7ms/step - loss: 5.6208 - val_loss: 6.5871\n",
      "Epoch 73/100\n",
      "9/9 [==============================] - 0s 7ms/step - loss: 5.5539 - val_loss: 6.4401\n",
      "Epoch 74/100\n",
      "9/9 [==============================] - 0s 9ms/step - loss: 5.5756 - val_loss: 6.4381\n",
      "Epoch 75/100\n",
      "9/9 [==============================] - 0s 8ms/step - loss: 5.5846 - val_loss: 6.6355\n",
      "Epoch 76/100\n",
      "9/9 [==============================] - 0s 9ms/step - loss: 5.4823 - val_loss: 6.6794\n",
      "Epoch 77/100\n",
      "9/9 [==============================] - 0s 7ms/step - loss: 5.5465 - val_loss: 6.4068\n",
      "Epoch 78/100\n",
      "9/9 [==============================] - 0s 7ms/step - loss: 5.5422 - val_loss: 6.6466\n",
      "Epoch 79/100\n",
      "9/9 [==============================] - 0s 7ms/step - loss: 5.5440 - val_loss: 6.5095\n",
      "Epoch 80/100\n",
      "9/9 [==============================] - 0s 7ms/step - loss: 5.5140 - val_loss: 6.4822\n",
      "Epoch 81/100\n",
      "9/9 [==============================] - 0s 7ms/step - loss: 5.4687 - val_loss: 6.5167\n",
      "Epoch 82/100\n",
      "9/9 [==============================] - 0s 8ms/step - loss: 5.4576 - val_loss: 6.5352\n",
      "Epoch 83/100\n",
      "9/9 [==============================] - 0s 9ms/step - loss: 5.4781 - val_loss: 6.5631\n",
      "Epoch 84/100\n",
      "9/9 [==============================] - 0s 9ms/step - loss: 5.5521 - val_loss: 6.6043\n",
      "Epoch 85/100\n",
      "9/9 [==============================] - 0s 10ms/step - loss: 5.4098 - val_loss: 6.5078\n",
      "Epoch 86/100\n",
      "9/9 [==============================] - 0s 9ms/step - loss: 5.4378 - val_loss: 6.5310\n",
      "Epoch 87/100\n",
      "9/9 [==============================] - 0s 8ms/step - loss: 5.4433 - val_loss: 6.5721\n",
      "Epoch 88/100\n",
      "9/9 [==============================] - 0s 9ms/step - loss: 5.4817 - val_loss: 6.6140\n",
      "Epoch 89/100\n",
      "9/9 [==============================] - 0s 10ms/step - loss: 5.4088 - val_loss: 6.5296\n",
      "Epoch 90/100\n",
      "9/9 [==============================] - 0s 9ms/step - loss: 5.4394 - val_loss: 6.5909\n",
      "Epoch 91/100\n",
      "9/9 [==============================] - 0s 8ms/step - loss: 5.4131 - val_loss: 6.5548\n",
      "Epoch 92/100\n",
      "9/9 [==============================] - 0s 8ms/step - loss: 5.4277 - val_loss: 6.5568\n",
      "Epoch 93/100\n",
      "9/9 [==============================] - 0s 9ms/step - loss: 5.5029 - val_loss: 7.0203\n",
      "Epoch 94/100\n",
      "9/9 [==============================] - 0s 9ms/step - loss: 5.5429 - val_loss: 6.5598\n",
      "Epoch 95/100\n",
      "9/9 [==============================] - 0s 9ms/step - loss: 5.5110 - val_loss: 6.5016\n",
      "Epoch 96/100\n",
      "9/9 [==============================] - 0s 9ms/step - loss: 5.4402 - val_loss: 6.5772\n",
      "Epoch 97/100\n",
      "9/9 [==============================] - ETA: 0s - loss: 4.134 - 0s 9ms/step - loss: 5.4160 - val_loss: 6.6482\n",
      "Epoch 98/100\n",
      "9/9 [==============================] - 0s 7ms/step - loss: 5.4158 - val_loss: 6.5368\n",
      "Epoch 99/100\n",
      "9/9 [==============================] - 0s 9ms/step - loss: 5.3655 - val_loss: 6.6418\n",
      "Epoch 100/100\n",
      "9/9 [==============================] - 0s 9ms/step - loss: 5.3838 - val_loss: 6.6424\n"
     ]
    },
    {
     "data": {
      "text/plain": [
       "<tensorflow.python.keras.callbacks.History at 0x29c6c2be850>"
      ]
     },
     "execution_count": 65,
     "metadata": {},
     "output_type": "execute_result"
    }
   ],
   "source": [
    "tf.random.set_seed(42)\n",
    "\n",
    "# Let's build an LSTM model with the Functional API\n",
    "inputs = layers.Input(shape=(WINDOW_SIZE))\n",
    "x = layers.Lambda(lambda x: tf.expand_dims(x, axis=1))(inputs) # expand input dimension to be compatible with LSTM\n",
    "# print(x.shape)\n",
    "# x = layers.LSTM(128, activation=\"relu\", return_sequences=True)(x) # this layer will error if the inputs are not the right shape\n",
    "x = layers.LSTM(128, activation=\"relu\")(x) # using the tanh loss function results in a massive error\n",
    "# print(x.shape)\n",
    "# Add another optional dense layer (you could add more of these to see if they improve model performance)\n",
    "# x = layers.Dense(32, activation=\"relu\")(x)\n",
    "output = layers.Dense(HORIZON)(x)\n",
    "model_5 = tf.keras.Model(inputs=inputs, outputs=output, name=\"model_5_lstm\")\n",
    "\n",
    "# Compile model\n",
    "model_5.compile(loss=\"mae\",\n",
    "                optimizer=tf.keras.optimizers.Adam())\n",
    " \n",
    "model_5.fit(train_windows,\n",
    "            train_labels,\n",
    "            epochs=100,\n",
    "            batch_size=128,\n",
    "            validation_data=(test_windows, test_labels),\n",
    "            callbacks=[create_model_checkpoint(model_name=model_5.name)])"
   ]
  },
  {
   "cell_type": "code",
   "execution_count": 66,
   "metadata": {},
   "outputs": [
    {
     "name": "stdout",
     "output_type": "stream",
     "text": [
      "9/9 [==============================] - 0s 2ms/step - loss: 6.2929\n"
     ]
    },
    {
     "data": {
      "text/plain": [
       "6.292875711267644"
      ]
     },
     "execution_count": 66,
     "metadata": {},
     "output_type": "execute_result"
    }
   ],
   "source": [
    "# Load in best version of model 5 and evaluate on the test data\n",
    "model_5 = tf.keras.models.load_model(\"model_experiments/model_5_lstm/\")\n",
    "model_5.evaluate(test_windows, test_labels)"
   ]
  },
  {
   "cell_type": "code",
   "execution_count": 67,
   "metadata": {},
   "outputs": [
    {
     "data": {
      "text/plain": [
       "{'mae': 6.292876,\n",
       " 'mse': 73.69672,\n",
       " 'rmse': 8.58468,\n",
       " 'mape': 16.615082,\n",
       " 'mase': 0.99035513}"
      ]
     },
     "execution_count": 67,
     "metadata": {},
     "output_type": "execute_result"
    }
   ],
   "source": [
    "# Make predictions with our LSTM model\n",
    "model_5_preds = make_preds(model_5, test_windows)\n",
    "\n",
    "# Evaluate model 5 preds\n",
    "model_5_results = evaluate_preds(y_true=tf.squeeze(test_labels),\n",
    "                                 y_pred=model_5_preds)\n",
    "model_5_results"
   ]
  },
  {
   "cell_type": "code",
   "execution_count": 68,
   "metadata": {},
   "outputs": [
    {
     "data": {
      "image/png": "[encoded data removed]",
      "text/plain": [
       "<Figure size 720x504 with 1 Axes>"
      ]
     },
     "metadata": {
      "needs_background": "light"
     },
     "output_type": "display_data"
    }
   ],
   "source": [
    "pd.DataFrame({\"naive\": naive_results[\"mae\"], \n",
    "              \"horizon_1_window_7\": model_1_results[\"mae\"], \n",
    "              \"horizon_1_window_30\": model_2_results[\"mae\"], \n",
    "              \"horizon_7_window_30\": model_3_results[\"mae\"],\n",
    "             \"horizon_1_window_7_4\": model_4_results[\"mae\"],\n",
    "             \"horizon_1_window_7_5\": model_5_results[\"mae\"]}, index=[\"mae\"]).plot(figsize=(10, 7), kind=\"bar\");"
   ]
  },
  {
   "cell_type": "code",
   "execution_count": 69,
   "metadata": {},
   "outputs": [
    {
     "data": {
      "text/html": [
       "<div>\n",
       "<style scoped>\n",
       "    .dataframe tbody tr th:only-of-type {\n",
       "        vertical-align: middle;\n",
       "    }\n",
       "\n",
       "    .dataframe tbody tr th {\n",
       "        vertical-align: top;\n",
       "    }\n",
       "\n",
       "    .dataframe thead th {\n",
       "        text-align: right;\n",
       "    }\n",
       "</style>\n",
       "<table border=\"1\" class=\"dataframe\">\n",
       "  <thead>\n",
       "    <tr style=\"text-align: right;\">\n",
       "      <th></th>\n",
       "      <th>mae</th>\n",
       "      <th>mse</th>\n",
       "      <th>rmse</th>\n",
       "      <th>mape</th>\n",
       "      <th>mase</th>\n",
       "    </tr>\n",
       "  </thead>\n",
       "  <tbody>\n",
       "    <tr>\n",
       "      <th>naive_model</th>\n",
       "      <td>6.338582</td>\n",
       "      <td>73.929634</td>\n",
       "      <td>8.598234</td>\n",
       "      <td>16.502781</td>\n",
       "      <td>0.997548</td>\n",
       "    </tr>\n",
       "    <tr>\n",
       "      <th>model_1_dense</th>\n",
       "      <td>6.279222</td>\n",
       "      <td>72.589661</td>\n",
       "      <td>8.519957</td>\n",
       "      <td>16.429499</td>\n",
       "      <td>0.988206</td>\n",
       "    </tr>\n",
       "    <tr>\n",
       "      <th>model_2_dense</th>\n",
       "      <td>6.478035</td>\n",
       "      <td>77.569656</td>\n",
       "      <td>8.807364</td>\n",
       "      <td>16.480209</td>\n",
       "      <td>1.009525</td>\n",
       "    </tr>\n",
       "    <tr>\n",
       "      <th>model_3_dense</th>\n",
       "      <td>10.667227</td>\n",
       "      <td>190.350052</td>\n",
       "      <td>12.256159</td>\n",
       "      <td>27.852779</td>\n",
       "      <td>1.660649</td>\n",
       "    </tr>\n",
       "    <tr>\n",
       "      <th>model_4_CONV1D</th>\n",
       "      <td>6.286227</td>\n",
       "      <td>72.642685</td>\n",
       "      <td>8.523067</td>\n",
       "      <td>16.505362</td>\n",
       "      <td>0.989309</td>\n",
       "    </tr>\n",
       "    <tr>\n",
       "      <th>model_5_LSTM</th>\n",
       "      <td>6.292876</td>\n",
       "      <td>73.696716</td>\n",
       "      <td>8.584680</td>\n",
       "      <td>16.615082</td>\n",
       "      <td>0.990355</td>\n",
       "    </tr>\n",
       "  </tbody>\n",
       "</table>\n",
       "</div>"
      ],
      "text/plain": [
       "                      mae         mse       rmse       mape      mase\n",
       "naive_model      6.338582   73.929634   8.598234  16.502781  0.997548\n",
       "model_1_dense    6.279222   72.589661   8.519957  16.429499  0.988206\n",
       "model_2_dense    6.478035   77.569656   8.807364  16.480209  1.009525\n",
       "model_3_dense   10.667227  190.350052  12.256159  27.852779  1.660649\n",
       "model_4_CONV1D   6.286227   72.642685   8.523067  16.505362  0.989309\n",
       "model_5_LSTM     6.292876   73.696716   8.584680  16.615082  0.990355"
      ]
     },
     "execution_count": 69,
     "metadata": {},
     "output_type": "execute_result"
    }
   ],
   "source": [
    "# TODO: Fix the names of the models/results are they comparable?\n",
    "model_results = pd.DataFrame({\"naive_model\": naive_results,\n",
    "                              \"model_1_dense\": model_1_results,\n",
    "                              \"model_2_dense\": model_2_results,\n",
    "                              \"model_3_dense\": model_3_results,\n",
    "                              \"model_4_CONV1D\": model_4_results,\n",
    "                              \"model_5_LSTM\": model_5_results\n",
    "                              }).T\n",
    "model_results.head(10)"
   ]
  },
  {
   "cell_type": "markdown",
   "metadata": {},
   "source": [
    "Looks like model  have a lo mae score..so, will be using that as our final model"
   ]
  },
  {
   "cell_type": "markdown",
   "metadata": {},
   "source": [
    "## Make future predictions"
   ]
  },
  {
   "cell_type": "code",
   "execution_count": 70,
   "metadata": {},
   "outputs": [],
   "source": [
    "# How many timesteps to predict into the future?\n",
    "INTO_FUTURE = 14 "
   ]
  },
  {
   "cell_type": "code",
   "execution_count": 71,
   "metadata": {},
   "outputs": [],
   "source": [
    "# 1. Create function to make predictions into the future\n",
    "def make_future_forecast(values, model, into_future, window_size=WINDOW_SIZE) -> list:\n",
    "    \"\"\"\n",
    "  Makes future forecasts into_future steps after values ends.\n",
    "\n",
    "  Returns future forecasts as list of floats.\n",
    "  \"\"\"\n",
    "  # 2. Make an empty list for future forecasts/prepare data to forecast on\n",
    "    future_forecast = []\n",
    "    last_window = values[-WINDOW_SIZE:] # only want preds from the last window (this will get updated)\n",
    "\n",
    "  # 3. Make INTO_FUTURE number of predictions, altering the data which gets predicted on each time \n",
    "    for _ in range(into_future):\n",
    "    \n",
    "    # Predict on last window then append it again, again, again (model starts to make forecasts on its own forecasts)\n",
    "        future_pred = model.predict(tf.expand_dims(last_window, axis=0))\n",
    "        print(f\"Predicting on: \\n {last_window} -> Prediction: {tf.squeeze(future_pred).numpy()}\\n\")\n",
    "    \n",
    "    # Append predictions to future_forecast\n",
    "        future_forecast.append(tf.squeeze(future_pred).numpy())\n",
    "    # print(future_forecast)\n",
    "\n",
    "    # Update last window with new pred and get WINDOW_SIZE most recent preds (model was trained on WINDOW_SIZE windows)\n",
    "        last_window = np.append(last_window, future_pred)[-WINDOW_SIZE:]\n",
    "  \n",
    "    return future_forecast"
   ]
  },
  {
   "cell_type": "code",
   "execution_count": 72,
   "metadata": {},
   "outputs": [
    {
     "name": "stdout",
     "output_type": "stream",
     "text": [
      "Predicting on: \n",
      " [17.96 20.26 19.96 17.19  9.87  9.8  13.53] -> Prediction: 14.51630924200146\n",
      "\n",
      "Predicting on: \n",
      " [20.26       19.96       17.19        9.87        9.8        13.53\n",
      " 14.51630924] -> Prediction: 15.11345142676812\n",
      "\n",
      "Predicting on: \n",
      " [19.96       17.19        9.87        9.8        13.53       14.51630924\n",
      " 15.11345143] -> Prediction: 15.720502082754345\n",
      "\n",
      "Predicting on: \n",
      " [17.19        9.87        9.8        13.53       14.51630924 15.11345143\n",
      " 15.72050208] -> Prediction: 16.30588763692548\n",
      "\n",
      "Predicting on: \n",
      " [ 9.87        9.8        13.53       14.51630924 15.11345143 15.72050208\n",
      " 16.30588764] -> Prediction: 15.882713904045193\n",
      "\n",
      "Predicting on: \n",
      " [ 9.8        13.53       14.51630924 15.11345143 15.72050208 16.30588764\n",
      " 15.8827139 ] -> Prediction: 15.482237652590255\n",
      "\n",
      "Predicting on: \n",
      " [13.53       14.51630924 15.11345143 15.72050208 16.30588764 15.8827139\n",
      " 15.48223765] -> Prediction: 15.541777466803058\n",
      "\n",
      "Predicting on: \n",
      " [14.51630924 15.11345143 15.72050208 16.30588764 15.8827139  15.48223765\n",
      " 15.54177747] -> Prediction: 15.739117938490205\n",
      "\n",
      "Predicting on: \n",
      " [15.11345143 15.72050208 16.30588764 15.8827139  15.48223765 15.54177747\n",
      " 15.73911794] -> Prediction: 15.927324685756997\n",
      "\n",
      "Predicting on: \n",
      " [15.72050208 16.30588764 15.8827139  15.48223765 15.54177747 15.73911794\n",
      " 15.92732469] -> Prediction: 16.141486146151696\n",
      "\n",
      "Predicting on: \n",
      " [16.30588764 15.8827139  15.48223765 15.54177747 15.73911794 15.92732469\n",
      " 16.14148615] -> Prediction: 16.391460208145045\n",
      "\n",
      "Predicting on: \n",
      " [15.8827139  15.48223765 15.54177747 15.73911794 15.92732469 16.14148615\n",
      " 16.39146021] -> Prediction: 16.55588791777883\n",
      "\n",
      "Predicting on: \n",
      " [15.48223765 15.54177747 15.73911794 15.92732469 16.14148615 16.39146021\n",
      " 16.55588792] -> Prediction: 16.654950227908795\n",
      "\n",
      "Predicting on: \n",
      " [15.54177747 15.73911794 15.92732469 16.14148615 16.39146021 16.55588792\n",
      " 16.65495023] -> Prediction: 16.75392444725571\n",
      "\n"
     ]
    }
   ],
   "source": [
    "y_all = df[\"PM2.5\"].to_numpy()\n",
    "future_forecast = make_future_forecast(values=y_all,\n",
    "                                       model=model_4,\n",
    "                                       into_future=INTO_FUTURE,\n",
    "                                       window_size=WINDOW_SIZE)"
   ]
  },
  {
   "cell_type": "code",
   "execution_count": 73,
   "metadata": {},
   "outputs": [
    {
     "data": {
      "text/plain": [
       "[14.51630924200146,\n",
       " 15.11345142676812,\n",
       " 15.720502082754345,\n",
       " 16.30588763692548,\n",
       " 15.882713904045193,\n",
       " 15.482237652590255,\n",
       " 15.541777466803058,\n",
       " 15.739117938490205,\n",
       " 15.927324685756997,\n",
       " 16.141486146151696,\n",
       " 16.391460208145045,\n",
       " 16.55588791777883,\n",
       " 16.654950227908795,\n",
       " 16.75392444725571]"
      ]
     },
     "execution_count": 73,
     "metadata": {},
     "output_type": "execute_result"
    }
   ],
   "source": [
    "future_forecast[:15]"
   ]
  },
  {
   "cell_type": "code",
   "execution_count": 74,
   "metadata": {},
   "outputs": [],
   "source": [
    "def get_future_dates(start_date, into_future, offset=1):\n",
    "    \"\"\"\n",
    "  Returns array of datetime values from ranging from start_date to start_date+horizon.\n",
    "\n",
    "  start_date: date to start range (np.datetime64)\n",
    "  into_future: number of days to add onto start date for range (int)\n",
    "  offset: number of days to offset start_date by (default 1)\n",
    "  \"\"\"\n",
    "    start_date = start_date + np.timedelta64(offset, \"D\") # specify start date, \"D\" stands for day\n",
    "    end_date = start_date + np.timedelta64(into_future, \"D\") # specify end date\n",
    "    return np.arange(start_date, end_date, dtype=\"datetime64[D]\") # return a date range between start date and end date"
   ]
  },
  {
   "cell_type": "code",
   "execution_count": 75,
   "metadata": {},
   "outputs": [
    {
     "data": {
      "text/plain": [
       "DatetimeIndex(['2017-09-01', '2017-09-02', '2017-09-03', '2017-09-04',\n",
       "               '2017-09-05', '2017-09-06', '2017-09-07', '2017-09-08',\n",
       "               '2017-09-09', '2017-09-10',\n",
       "               ...\n",
       "               '2021-06-06', '2021-06-07', '2021-06-08', '2021-06-09',\n",
       "               '2021-06-10', '2021-06-11', '2021-06-12', '2021-06-13',\n",
       "               '2021-06-14', '2021-06-15'],\n",
       "              dtype='datetime64[ns]', name='Date', length=1379, freq=None)"
      ]
     },
     "execution_count": 75,
     "metadata": {},
     "output_type": "execute_result"
    }
   ],
   "source": [
    "df.index"
   ]
  },
  {
   "cell_type": "code",
   "execution_count": 76,
   "metadata": {},
   "outputs": [
    {
     "data": {
      "text/plain": [
       "Timestamp('2021-06-15 00:00:00')"
      ]
     },
     "execution_count": 76,
     "metadata": {},
     "output_type": "execute_result"
    }
   ],
   "source": [
    "# Last timestep of timesteps (currently in np.datetime64 format)\n",
    "last_timestep = df.index[-1]\n",
    "last_timestep"
   ]
  },
  {
   "cell_type": "code",
   "execution_count": 77,
   "metadata": {},
   "outputs": [
    {
     "data": {
      "text/plain": [
       "array(['2021-06-16', '2021-06-17', '2021-06-18', '2021-06-19',\n",
       "       '2021-06-20', '2021-06-21', '2021-06-22', '2021-06-23',\n",
       "       '2021-06-24', '2021-06-25', '2021-06-26', '2021-06-27',\n",
       "       '2021-06-28', '2021-06-29'], dtype='datetime64[D]')"
      ]
     },
     "execution_count": 77,
     "metadata": {},
     "output_type": "execute_result"
    }
   ],
   "source": [
    "# Get next two weeks of timesteps\n",
    "next_time_steps = get_future_dates(start_date=last_timestep, \n",
    "                                   into_future=INTO_FUTURE)\n",
    "next_time_steps"
   ]
  },
  {
   "cell_type": "code",
   "execution_count": 78,
   "metadata": {},
   "outputs": [
    {
     "data": {
      "text/plain": [
       "array([10.46,  6.31, 10.4 , 23.  , 15.46, 28.28, 37.15, 25.  , 35.34,\n",
       "       37.09])"
      ]
     },
     "execution_count": 78,
     "metadata": {},
     "output_type": "execute_result"
    }
   ],
   "source": [
    "btc = df['PM2.5'].to_numpy()\n",
    "btc[:10]"
   ]
  },
  {
   "cell_type": "code",
   "execution_count": 79,
   "metadata": {},
   "outputs": [
    {
     "data": {
      "image/png": "[encoded data removed]",
      "text/plain": [
       "<Figure size 720x504 with 1 Axes>"
      ]
     },
     "metadata": {
      "needs_background": "light"
     },
     "output_type": "display_data"
    }
   ],
   "source": [
    "plt.figure(figsize=(10, 7))\n",
    "plot_time_series(df.index, btc, start=1300, format=\"-\", label=\"Actual AQI\")\n",
    "plot_time_series(next_time_steps, future_forecast, format=\"-\", label=\"Predicted AQI\")"
   ]
  },
  {
   "cell_type": "markdown",
   "metadata": {},
   "source": [
    "## But, how well did our model predicted on the future??\n",
    "\n",
    "<br>\n",
    "Let's test this out"
   ]
  },
  {
   "cell_type": "code",
   "execution_count": 80,
   "metadata": {},
   "outputs": [
    {
     "data": {
      "text/plain": [
       "array([23.02  , 19.49  , 20.2   , 17.96  , 20.26  , 19.96  , 17.19  ,\n",
       "        9.87  ,  9.8   ,  0.1353])"
      ]
     },
     "execution_count": 80,
     "metadata": {},
     "output_type": "execute_result"
    }
   ],
   "source": [
    "# Let's introduce a Turkey problem to our BTC data (AQI BTC falls 100x in one day)\n",
    "btc_price_turkey = btc.copy()\n",
    "btc_price_turkey[-1] = btc_price_turkey[-1] / 100\n",
    "\n",
    "btc_price_turkey[-10:]"
   ]
  },
  {
   "cell_type": "markdown",
   "metadata": {},
   "source": [
    "the variation above shocases how the data reacts when there is a 100 times changes happens to our mdoel"
   ]
  },
  {
   "cell_type": "code",
   "execution_count": 81,
   "metadata": {},
   "outputs": [
    {
     "data": {
      "text/plain": [
       "array(['2021-06-06T00:00:00.000000000', '2021-06-07T00:00:00.000000000',\n",
       "       '2021-06-08T00:00:00.000000000', '2021-06-09T00:00:00.000000000',\n",
       "       '2021-06-10T00:00:00.000000000', '2021-06-11T00:00:00.000000000',\n",
       "       '2021-06-12T00:00:00.000000000', '2021-06-13T00:00:00.000000000',\n",
       "       '2021-06-14T00:00:00.000000000', '2021-06-15T00:00:00.000000000'],\n",
       "      dtype='datetime64[ns]')"
      ]
     },
     "execution_count": 81,
     "metadata": {},
     "output_type": "execute_result"
    }
   ],
   "source": [
    "# Get the timesteps for the turkey problem \n",
    "btc_timesteps_turkey = np.array(df.index)\n",
    "btc_timesteps_turkey[-10:]"
   ]
  },
  {
   "cell_type": "code",
   "execution_count": 82,
   "metadata": {},
   "outputs": [
    {
     "data": {
      "image/png": "[encoded data removed]",
      "text/plain": [
       "<Figure size 720x504 with 1 Axes>"
      ]
     },
     "metadata": {
      "needs_background": "light"
     },
     "output_type": "display_data"
    }
   ],
   "source": [
    "plt.figure(figsize=(10, 7))\n",
    "plot_time_series(timesteps=btc_timesteps_turkey, \n",
    "                 values=btc_price_turkey, \n",
    "                 format=\"-\", \n",
    "                 label=\"BTC aqi + Turkey Problem\", \n",
    "                 start=1300)"
   ]
  },
  {
   "cell_type": "markdown",
   "metadata": {},
   "source": [
    "If you observe carefully, we can see that the turkey model completely lost it when coming to the 100 times change in data. But, this generally happens only a few times."
   ]
  },
  {
   "cell_type": "code",
   "execution_count": 83,
   "metadata": {},
   "outputs": [
    {
     "data": {
      "text/plain": [
       "(1097, 275, 1097, 275)"
      ]
     },
     "execution_count": 83,
     "metadata": {},
     "output_type": "execute_result"
    }
   ],
   "source": [
    "# Create train and test sets for turkey problem data\n",
    "full_windows, full_labels = make_windows(np.array(btc_price_turkey), window_size=WINDOW_SIZE, horizon=HORIZON)\n",
    "len(full_windows), len(full_labels)\n",
    "\n",
    "X_train, X_test, y_train, y_test = make_train_test_splits(full_windows, full_labels)\n",
    "len(X_train), len(X_test), len(y_train), len(y_test)"
   ]
  },
  {
   "cell_type": "markdown",
   "metadata": {},
   "source": [
    "## Building a turkey model (model to predict on turkey data)"
   ]
  },
  {
   "cell_type": "code",
   "execution_count": 84,
   "metadata": {},
   "outputs": [
    {
     "name": "stdout",
     "output_type": "stream",
     "text": [
      "INFO:tensorflow:Assets written to: model_experiments\\Turkey_Model\\assets\n",
      "INFO:tensorflow:Assets written to: model_experiments\\Turkey_Model\\assets\n",
      "INFO:tensorflow:Assets written to: model_experiments\\Turkey_Model\\assets\n",
      "INFO:tensorflow:Assets written to: model_experiments\\Turkey_Model\\assets\n",
      "INFO:tensorflow:Assets written to: model_experiments\\Turkey_Model\\assets\n",
      "INFO:tensorflow:Assets written to: model_experiments\\Turkey_Model\\assets\n",
      "INFO:tensorflow:Assets written to: model_experiments\\Turkey_Model\\assets\n",
      "INFO:tensorflow:Assets written to: model_experiments\\Turkey_Model\\assets\n",
      "INFO:tensorflow:Assets written to: model_experiments\\Turkey_Model\\assets\n",
      "INFO:tensorflow:Assets written to: model_experiments\\Turkey_Model\\assets\n",
      "INFO:tensorflow:Assets written to: model_experiments\\Turkey_Model\\assets\n",
      "INFO:tensorflow:Assets written to: model_experiments\\Turkey_Model\\assets\n",
      "INFO:tensorflow:Assets written to: model_experiments\\Turkey_Model\\assets\n",
      "INFO:tensorflow:Assets written to: model_experiments\\Turkey_Model\\assets\n",
      "INFO:tensorflow:Assets written to: model_experiments\\Turkey_Model\\assets\n",
      "INFO:tensorflow:Assets written to: model_experiments\\Turkey_Model\\assets\n",
      "INFO:tensorflow:Assets written to: model_experiments\\Turkey_Model\\assets\n"
     ]
    },
    {
     "data": {
      "text/plain": [
       "<tensorflow.python.keras.callbacks.History at 0x29c724dd130>"
      ]
     },
     "execution_count": 84,
     "metadata": {},
     "output_type": "execute_result"
    }
   ],
   "source": [
    "# Clone model 1 architecture for turkey model and fit the turkey model on the turkey data\n",
    "turkey_model = tf.keras.models.clone_model(model_4)\n",
    "turkey_model._name = \"Turkey_Model\"\n",
    "turkey_model.compile(loss=\"mae\",\n",
    "                     optimizer=tf.keras.optimizers.Adam())\n",
    "turkey_model.fit(X_train, y_train,\n",
    "                 epochs=100,\n",
    "                 verbose=0,\n",
    "                 validation_data=(X_test, y_test),\n",
    "                 callbacks=[create_model_checkpoint(turkey_model.name)])"
   ]
  },
  {
   "cell_type": "code",
   "execution_count": 85,
   "metadata": {},
   "outputs": [
    {
     "name": "stdout",
     "output_type": "stream",
     "text": [
      "9/9 [==============================] - 0s 2ms/step - loss: 6.2826\n"
     ]
    },
    {
     "data": {
      "text/plain": [
       "{'mae': 20.428394,\n",
       " 'mse': 663.9704,\n",
       " 'rmse': 24.692965,\n",
       " 'mape': 168.21506,\n",
       " 'mase': 3.2040417}"
      ]
     },
     "execution_count": 85,
     "metadata": {},
     "output_type": "execute_result"
    }
   ],
   "source": [
    "# Load best model and evaluate on test data\n",
    "turkey_model = tf.keras.models.load_model(\"model_experiments/Turkey_Model/\")\n",
    "turkey_model.evaluate(X_test, y_test)\n",
    "\n",
    "turkey_preds = make_preds(turkey_model, X_test)\n",
    "\n",
    "# Evaluate turkey preds\n",
    "turkey_results = evaluate_preds(y_true=y_test,\n",
    "                                y_pred=turkey_preds)\n",
    "turkey_results"
   ]
  },
  {
   "cell_type": "code",
   "execution_count": 86,
   "metadata": {},
   "outputs": [
    {
     "data": {
      "text/plain": [
       "{'mae': 6.2862267,\n",
       " 'mse': 72.642685,\n",
       " 'rmse': 8.523067,\n",
       " 'mape': 16.505362,\n",
       " 'mase': 0.9893087}"
      ]
     },
     "execution_count": 86,
     "metadata": {},
     "output_type": "execute_result"
    }
   ],
   "source": [
    "model_4_results"
   ]
  },
  {
   "cell_type": "code",
   "execution_count": 87,
   "metadata": {},
   "outputs": [
    {
     "data": {
      "image/png": "[encoded data removed]",
      "text/plain": [
       "<Figure size 720x504 with 1 Axes>"
      ]
     },
     "metadata": {
      "needs_background": "light"
     },
     "output_type": "display_data"
    }
   ],
   "source": [
    "plt.figure(figsize=(10, 7))\n",
    "# plot_time_series(timesteps=btc_timesteps_turkey[:split_size], values=btc_price_turkey[:split_size], label=\"Train Data\")\n",
    "offset=270\n",
    "plot_time_series(timesteps=btc_timesteps_turkey[-len(X_test):], \n",
    "                 values=btc_price_turkey[-len(y_test):], \n",
    "                 format=\"-\", \n",
    "                 label=\"Turkey Test Data\", start=offset)\n",
    "plot_time_series(timesteps=btc_timesteps_turkey[-len(X_test):],\n",
    "                 values=turkey_preds, \n",
    "                 label=\"Turkey Preds\", \n",
    "                 start=offset);"
   ]
  },
  {
   "cell_type": "markdown",
   "metadata": {},
   "source": [
    "## Compare Models"
   ]
  },
  {
   "cell_type": "code",
   "execution_count": 88,
   "metadata": {},
   "outputs": [
    {
     "data": {
      "text/html": [
       "<div>\n",
       "<style scoped>\n",
       "    .dataframe tbody tr th:only-of-type {\n",
       "        vertical-align: middle;\n",
       "    }\n",
       "\n",
       "    .dataframe tbody tr th {\n",
       "        vertical-align: top;\n",
       "    }\n",
       "\n",
       "    .dataframe thead th {\n",
       "        text-align: right;\n",
       "    }\n",
       "</style>\n",
       "<table border=\"1\" class=\"dataframe\">\n",
       "  <thead>\n",
       "    <tr style=\"text-align: right;\">\n",
       "      <th></th>\n",
       "      <th>mae</th>\n",
       "      <th>mse</th>\n",
       "      <th>rmse</th>\n",
       "      <th>mape</th>\n",
       "      <th>mase</th>\n",
       "    </tr>\n",
       "  </thead>\n",
       "  <tbody>\n",
       "    <tr>\n",
       "      <th>naive_model</th>\n",
       "      <td>6.338582</td>\n",
       "      <td>73.929634</td>\n",
       "      <td>8.598234</td>\n",
       "      <td>16.502781</td>\n",
       "      <td>0.997548</td>\n",
       "    </tr>\n",
       "    <tr>\n",
       "      <th>model_1_dense</th>\n",
       "      <td>6.279222</td>\n",
       "      <td>72.589661</td>\n",
       "      <td>8.519957</td>\n",
       "      <td>16.429499</td>\n",
       "      <td>0.988206</td>\n",
       "    </tr>\n",
       "    <tr>\n",
       "      <th>model_2_dense</th>\n",
       "      <td>6.478035</td>\n",
       "      <td>77.569656</td>\n",
       "      <td>8.807364</td>\n",
       "      <td>16.480209</td>\n",
       "      <td>1.009525</td>\n",
       "    </tr>\n",
       "    <tr>\n",
       "      <th>model_3_dense</th>\n",
       "      <td>10.667227</td>\n",
       "      <td>190.350052</td>\n",
       "      <td>12.256159</td>\n",
       "      <td>27.852779</td>\n",
       "      <td>1.660649</td>\n",
       "    </tr>\n",
       "    <tr>\n",
       "      <th>model_4_CONV1D</th>\n",
       "      <td>6.286227</td>\n",
       "      <td>72.642685</td>\n",
       "      <td>8.523067</td>\n",
       "      <td>16.505362</td>\n",
       "      <td>0.989309</td>\n",
       "    </tr>\n",
       "    <tr>\n",
       "      <th>model_5_LSTM</th>\n",
       "      <td>6.292876</td>\n",
       "      <td>73.696716</td>\n",
       "      <td>8.584680</td>\n",
       "      <td>16.615082</td>\n",
       "      <td>0.990355</td>\n",
       "    </tr>\n",
       "    <tr>\n",
       "      <th>model_6_turkey</th>\n",
       "      <td>20.428394</td>\n",
       "      <td>663.970398</td>\n",
       "      <td>24.692965</td>\n",
       "      <td>168.215057</td>\n",
       "      <td>3.204042</td>\n",
       "    </tr>\n",
       "  </tbody>\n",
       "</table>\n",
       "</div>"
      ],
      "text/plain": [
       "                      mae         mse       rmse        mape      mase\n",
       "naive_model      6.338582   73.929634   8.598234   16.502781  0.997548\n",
       "model_1_dense    6.279222   72.589661   8.519957   16.429499  0.988206\n",
       "model_2_dense    6.478035   77.569656   8.807364   16.480209  1.009525\n",
       "model_3_dense   10.667227  190.350052  12.256159   27.852779  1.660649\n",
       "model_4_CONV1D   6.286227   72.642685   8.523067   16.505362  0.989309\n",
       "model_5_LSTM     6.292876   73.696716   8.584680   16.615082  0.990355\n",
       "model_6_turkey  20.428394  663.970398  24.692965  168.215057  3.204042"
      ]
     },
     "execution_count": 88,
     "metadata": {},
     "output_type": "execute_result"
    }
   ],
   "source": [
    "# TODO: Fix the names of the models/results are they comparable?\n",
    "model_results = pd.DataFrame({\"naive_model\": naive_results,\n",
    "                              \"model_1_dense\": model_1_results,\n",
    "                              \"model_2_dense\": model_2_results,\n",
    "                              \"model_3_dense\": model_3_results,\n",
    "                              \"model_4_CONV1D\": model_4_results,\n",
    "                              \"model_5_LSTM\": model_5_results,\n",
    "                              \"model_6_turkey\": turkey_results}).T\n",
    "model_results.head(10)"
   ]
  },
  {
   "cell_type": "code",
   "execution_count": 89,
   "metadata": {},
   "outputs": [
    {
     "data": {
      "image/png": "[encoded data removed]",
      "text/plain": [
       "<Figure size 720x504 with 1 Axes>"
      ]
     },
     "metadata": {
      "needs_background": "light"
     },
     "output_type": "display_data"
    }
   ],
   "source": [
    "# Sort model results by MAE and plot them\n",
    "model_results[[\"mae\"]].sort_values(by=\"mae\").plot(figsize=(10, 7), kind=\"bar\");"
   ]
  },
  {
   "cell_type": "code",
   "execution_count": 116,
   "metadata": {},
   "outputs": [
    {
     "data": {
      "text/html": [
       "<div>\n",
       "<style scoped>\n",
       "    .dataframe tbody tr th:only-of-type {\n",
       "        vertical-align: middle;\n",
       "    }\n",
       "\n",
       "    .dataframe tbody tr th {\n",
       "        vertical-align: top;\n",
       "    }\n",
       "\n",
       "    .dataframe thead tr th {\n",
       "        text-align: left;\n",
       "    }\n",
       "</style>\n",
       "<table border=\"1\" class=\"dataframe\">\n",
       "  <thead>\n",
       "    <tr>\n",
       "      <th></th>\n",
       "      <th>Date</th>\n",
       "      <th>PM2.5_level</th>\n",
       "    </tr>\n",
       "  </thead>\n",
       "  <tbody>\n",
       "    <tr>\n",
       "      <th>0</th>\n",
       "      <td>2021-06-16</td>\n",
       "      <td>14.516309</td>\n",
       "    </tr>\n",
       "    <tr>\n",
       "      <th>1</th>\n",
       "      <td>2021-06-17</td>\n",
       "      <td>15.113451</td>\n",
       "    </tr>\n",
       "    <tr>\n",
       "      <th>2</th>\n",
       "      <td>2021-06-18</td>\n",
       "      <td>15.720502</td>\n",
       "    </tr>\n",
       "    <tr>\n",
       "      <th>3</th>\n",
       "      <td>2021-06-19</td>\n",
       "      <td>16.305888</td>\n",
       "    </tr>\n",
       "    <tr>\n",
       "      <th>4</th>\n",
       "      <td>2021-06-20</td>\n",
       "      <td>15.882714</td>\n",
       "    </tr>\n",
       "    <tr>\n",
       "      <th>5</th>\n",
       "      <td>2021-06-21</td>\n",
       "      <td>15.482238</td>\n",
       "    </tr>\n",
       "    <tr>\n",
       "      <th>6</th>\n",
       "      <td>2021-06-22</td>\n",
       "      <td>15.541777</td>\n",
       "    </tr>\n",
       "    <tr>\n",
       "      <th>7</th>\n",
       "      <td>2021-06-23</td>\n",
       "      <td>15.739118</td>\n",
       "    </tr>\n",
       "    <tr>\n",
       "      <th>8</th>\n",
       "      <td>2021-06-24</td>\n",
       "      <td>15.927325</td>\n",
       "    </tr>\n",
       "    <tr>\n",
       "      <th>9</th>\n",
       "      <td>2021-06-25</td>\n",
       "      <td>16.141486</td>\n",
       "    </tr>\n",
       "    <tr>\n",
       "      <th>10</th>\n",
       "      <td>2021-06-26</td>\n",
       "      <td>16.391460</td>\n",
       "    </tr>\n",
       "    <tr>\n",
       "      <th>11</th>\n",
       "      <td>2021-06-27</td>\n",
       "      <td>16.555888</td>\n",
       "    </tr>\n",
       "    <tr>\n",
       "      <th>12</th>\n",
       "      <td>2021-06-28</td>\n",
       "      <td>16.654950</td>\n",
       "    </tr>\n",
       "    <tr>\n",
       "      <th>13</th>\n",
       "      <td>2021-06-29</td>\n",
       "      <td>16.753924</td>\n",
       "    </tr>\n",
       "  </tbody>\n",
       "</table>\n",
       "</div>"
      ],
      "text/plain": [
       "         Date PM2.5_level\n",
       "0  2021-06-16   14.516309\n",
       "1  2021-06-17   15.113451\n",
       "2  2021-06-18   15.720502\n",
       "3  2021-06-19   16.305888\n",
       "4  2021-06-20   15.882714\n",
       "5  2021-06-21   15.482238\n",
       "6  2021-06-22   15.541777\n",
       "7  2021-06-23   15.739118\n",
       "8  2021-06-24   15.927325\n",
       "9  2021-06-25   16.141486\n",
       "10 2021-06-26   16.391460\n",
       "11 2021-06-27   16.555888\n",
       "12 2021-06-28   16.654950\n",
       "13 2021-06-29   16.753924"
      ]
     },
     "execution_count": 116,
     "metadata": {},
     "output_type": "execute_result"
    }
   ],
   "source": [
    "ft = list(zip(next_time_steps, future_forecast))\n",
    "a = pd.DataFrame(ft)\n",
    "col = [['Date', 'PM2.5_level']]\n",
    "a.columns = col\n",
    "a"
   ]
  },
  {
   "cell_type": "code",
   "execution_count": null,
   "metadata": {},
   "outputs": [],
   "source": []
  }
 ],
 "metadata": {
  "kernelspec": {
   "display_name": "Python 3",
   "language": "python",
   "name": "python3"
  },
  "language_info": {
   "codemirror_mode": {
    "name": "ipython",
    "version": 3
   },
   "file_extension": ".py",
   "mimetype": "text/x-python",
   "name": "python",
   "nbconvert_exporter": "python",
   "pygments_lexer": "ipython3",
   "version": "3.8.3"
  }
 },
 "nbformat": 4,
 "nbformat_minor": 4
}
